{
 "cells": [
  {
   "cell_type": "markdown",
   "metadata": {},
   "source": [
    "**Ahmed Naseem**<br>\n",
    "**Batch 5**<br>\n",
    "**DSAI Final Exam**"
   ]
  },
  {
   "cell_type": "markdown",
   "metadata": {},
   "source": [
    "**Question 1**"
   ]
  },
  {
   "cell_type": "markdown",
   "metadata": {},
   "source": [
    "**a. Define Generative AI and explain its key components. How does it differ \n",
    "from traditional AI?**<br><br>\n",
    "Answer:**Definition of Generative AI**<br>\n",
    "Generative AI refers to artificial intelligence models that can generate new data, such as text, images, audio, or video, based on patterns learned from existing data. These models do not simply classify or predict but create original outputs that resemble real-world data.\n",
    "\n",
    "**Key Components of Generative AI**<br>\n",
    "\n",
    "1) Neural Networks – Deep learning models, especially transformer-based architectures (e.g., GPT, BERT) and GANs (Generative Adversarial Networks), power generative AI.<br>\n",
    "2) Training Data – Generative AI models require large datasets to learn patterns and structures.<br>\n",
    "3) Latent Space Representation – The model encodes features of input data into a latent space and generates new outputs by manipulating these representations.<br>\n",
    "4) Sampling Mechanism – Techniques like probability distributions and autoregressive generation help in producing meaningful outputs.<br>\n",
    "5) Optimization & Loss Functions – Models use loss functions like Cross-Entropy (for text) or Adversarial Loss (for GANs) to improve generation quality.<br>\n",
    "\n",
    "**Differences Between Generative AI and Traditional AI**<br>\n",
    "**Purpose:**<br>\n",
    "\n",
    "Generative AI creates new content (e.g., images, text, videos).\n",
    "Traditional AI analyzes and classifies existing data.<br>\n",
    "\n",
    "**Output:**<br>\n",
    "\n",
    "Generative AI produces original outputs like text, images, or music.\n",
    "Traditional AI provides predictions, classifications, or decisions based on input data.<br>\n",
    "\n",
    "**Models Used:**<br>\n",
    "\n",
    "Generative AI uses GANs (Generative Adversarial Networks), VAEs (Variational Autoencoders), and Transformers (like GPT).\n",
    "Traditional AI relies on Decision Trees, SVMs (Support Vector Machines), Regression models, and CNNs (Convolutional Neural Networks).<br>\n",
    "\n",
    "**Learning Type:**<br>\n",
    "\n",
    "Generative AI often uses unsupervised and self-supervised learning to generate data.\n",
    "Traditional AI primarily relies on supervised learning and reinforcement learning for pattern recognition and decision-making.\n",
    "This format should be easier to write in your exam. Let me know if you need further refinements!\n"
   ]
  },
  {
   "cell_type": "markdown",
   "metadata": {},
   "source": [
    "**b. Explain the concept of Prompt Engineering. How does it influence the output of a Generative AI model?**<br>\n",
    "\n",
    "Answer:\n",
    "\n",
    "Concept of Prompt Engineering<br>\n",
    "Prompt engineering is the process of designing and optimizing input prompts to guide generative AI models toward producing accurate, relevant, and high-quality outputs. It involves structuring queries, adding context, and using specific instructions to improve the AI’s response.\n",
    "\n",
    "How Prompt Engineering Influences Output<br>\n",
    "\n",
    "1) Clarity and Specificity – Well-structured prompts provide clear instructions, leading to more precise responses.<br>\n",
    "2) Context and Constraints – Including context or constraints helps the model generate outputs that align with user intent.<br>\n",
    "3) Format and Structure – Asking for responses in bullet points, tables, or a specific style improves readability and relevance.<br>\n",
    "4) Use of Examples – Providing sample inputs and outputs helps the model understand the expected response format.<br>\n",
    "Iterative Refinement – Adjusting the prompt based on initial results can refine and improve the model’s performance over multiple iterations.<br>\n",
    "5) By effectively engineering prompts, users can significantly enhance the quality, coherence, and accuracy of AI-generated content."
   ]
  },
  {
   "cell_type": "markdown",
   "metadata": {},
   "source": [
    "**c. What is the difference between Discriminative and Generative AI models? Provide examples of each**<br>\n",
    "\n",
    "Answer:\n",
    "\n",
    "**Discriminative AI Models**<br>\n",
    "Discriminative models learn to distinguish between different classes by mapping input features to labels. They focus on decision boundaries to classify data.\n",
    "\n",
    "Examples of Discriminative Models:\n",
    "\n",
    "Logistic Regression – Used for binary classification tasks.\n",
    "Support Vector Machines (SVMs) – Separates classes using hyperplanes.\n",
    "Random Forest & Decision Trees – Predict outcomes based on feature splits.\n",
    "Convolutional Neural Networks (CNNs) – Used for image classification.\n",
    "Generative AI Models<br>\n",
    "Generative models learn the underlying data distribution and generate new data samples that resemble the original dataset.\n",
    "\n",
    "Examples of Generative Models:\n",
    "\n",
    "Generative Adversarial Networks (GANs) – Generate realistic images and videos.\n",
    "Variational Autoencoders (VAEs) – Learn latent representations for image synthesis.\n",
    "GPT (Generative Pre-trained Transformer) – Generates human-like text.\n",
    "DALL·E – Creates images from textual descriptions.\n",
    "Key Difference:<br>\n",
    "\n",
    "Discriminative models classify data (e.g., \"Is this image a cat or a dog?\").\n",
    "Generative models create new data (e.g., \"Generate a new image of a cat.\")."
   ]
  },
  {
   "cell_type": "markdown",
   "metadata": {},
   "source": [
    "**d. Explain the concept of Embeddings in GenAI. How do they contribute to information retrieval in RAG systems?**<br>\n",
    "\n",
    "Answer:\n",
    "\n",
    "**Concept of Embeddings in Generative AI**<br>\n",
    "Embeddings are numerical vector representations of words, images, or other data types that capture semantic meaning and relationships in a lower-dimensional space. They help AI models understand context and similarity between different inputs.\n",
    "\n",
    "How Embeddings Contribute to Information Retrieval in RAG Systems<br>\n",
    "\n",
    "Efficient Search and Retrieval – Embeddings enable fast similarity searches, allowing Retrieval-Augmented Generation (RAG) systems to find the most relevant documents efficiently.<br>\n",
    "Semantic Understanding – Unlike keyword-based searches, embeddings capture context, enabling more meaningful document retrieval.<br>\n",
    "Handling Synonyms and Variations – Similar concepts have closely related vector representations, improving search accuracy even if exact words differ.<br>\n",
    "Reducing Dimensionality – Compressing high-dimensional data into embeddings makes retrieval operations computationally efficient.<br>\n",
    "Improved Context for Generation – Once relevant documents are retrieved, they provide additional context for Generative AI models to produce more accurate and informed responses.<br>\n",
    "By leveraging embeddings, RAG systems enhance AI-generated outputs by incorporating relevant and high-quality external information."
   ]
  },
  {
   "cell_type": "markdown",
   "metadata": {},
   "source": [
    "**Question 4 (MCQs)**"
   ]
  },
  {
   "cell_type": "markdown",
   "metadata": {},
   "source": [
    "1- What is the primary function of Generative AI?<br>\n",
    "Answer: b) Generating new content based on learned patterns\n",
    "\n",
    "2- Which of the following is NOT a popular Large Language Model (LLM)?<br>\n",
    "Answer: c) ResNet-50\n",
    "\n",
    "3- What is the main advantage of Retrieval-Augmented Generation (RAG)?<br>\n",
    "Answer: b) It enhances text generation by retrieving relevant external knowledge\n",
    "\n",
    "4- What role does LangSmith play in AI development?<br>\n",
    "Answer: b) It provides monitoring, evaluation, and debugging tools for AI workflows\n",
    "\n",
    "5- What is a key characteristic of Agentic AI?<br>\n",
    "Answer: b) It autonomously makes decisions and takes actions based on objectives"
   ]
  }
 ],
 "metadata": {
  "kernelspec": {
   "display_name": "data-science-work-CgkfV62e-py3.12",
   "language": "python",
   "name": "python3"
  },
  "language_info": {
   "name": "python",
   "version": "3.12.3"
  }
 },
 "nbformat": 4,
 "nbformat_minor": 2
}
