{
 "cells": [
  {
   "cell_type": "markdown",
   "metadata": {},
   "source": [
    "Dataset is downloaded from Kaggle. Link: https://www.kaggle.com/giripujar/hr-analytics"
   ]
  },
  {
   "cell_type": "code",
   "execution_count": 1,
   "metadata": {
    "collapsed": true
   },
   "outputs": [],
   "source": [
    "import pandas as pd\n",
    "from matplotlib import pyplot as plt\n",
    "%matplotlib inline"
   ]
  },
  {
   "cell_type": "code",
   "execution_count": 2,
   "metadata": {},
   "outputs": [
    {
     "data": {
      "text/html": [
       "<div>\n",
       "<style scoped>\n",
       "    .dataframe tbody tr th:only-of-type {\n",
       "        vertical-align: middle;\n",
       "    }\n",
       "\n",
       "    .dataframe tbody tr th {\n",
       "        vertical-align: top;\n",
       "    }\n",
       "\n",
       "    .dataframe thead th {\n",
       "        text-align: right;\n",
       "    }\n",
       "</style>\n",
       "<table border=\"1\" class=\"dataframe\">\n",
       "  <thead>\n",
       "    <tr style=\"text-align: right;\">\n",
       "      <th></th>\n",
       "      <th>satisfaction_level</th>\n",
       "      <th>last_evaluation</th>\n",
       "      <th>number_project</th>\n",
       "      <th>average_montly_hours</th>\n",
       "      <th>time_spend_company</th>\n",
       "      <th>Work_accident</th>\n",
       "      <th>left</th>\n",
       "      <th>promotion_last_5years</th>\n",
       "      <th>Department</th>\n",
       "      <th>salary</th>\n",
       "    </tr>\n",
       "  </thead>\n",
       "  <tbody>\n",
       "    <tr>\n",
       "      <th>0</th>\n",
       "      <td>0.38</td>\n",
       "      <td>0.53</td>\n",
       "      <td>2</td>\n",
       "      <td>157</td>\n",
       "      <td>3</td>\n",
       "      <td>0</td>\n",
       "      <td>1</td>\n",
       "      <td>0</td>\n",
       "      <td>sales</td>\n",
       "      <td>low</td>\n",
       "    </tr>\n",
       "    <tr>\n",
       "      <th>1</th>\n",
       "      <td>0.80</td>\n",
       "      <td>0.86</td>\n",
       "      <td>5</td>\n",
       "      <td>262</td>\n",
       "      <td>6</td>\n",
       "      <td>0</td>\n",
       "      <td>1</td>\n",
       "      <td>0</td>\n",
       "      <td>sales</td>\n",
       "      <td>medium</td>\n",
       "    </tr>\n",
       "    <tr>\n",
       "      <th>2</th>\n",
       "      <td>0.11</td>\n",
       "      <td>0.88</td>\n",
       "      <td>7</td>\n",
       "      <td>272</td>\n",
       "      <td>4</td>\n",
       "      <td>0</td>\n",
       "      <td>1</td>\n",
       "      <td>0</td>\n",
       "      <td>sales</td>\n",
       "      <td>medium</td>\n",
       "    </tr>\n",
       "    <tr>\n",
       "      <th>3</th>\n",
       "      <td>0.72</td>\n",
       "      <td>0.87</td>\n",
       "      <td>5</td>\n",
       "      <td>223</td>\n",
       "      <td>5</td>\n",
       "      <td>0</td>\n",
       "      <td>1</td>\n",
       "      <td>0</td>\n",
       "      <td>sales</td>\n",
       "      <td>low</td>\n",
       "    </tr>\n",
       "    <tr>\n",
       "      <th>4</th>\n",
       "      <td>0.37</td>\n",
       "      <td>0.52</td>\n",
       "      <td>2</td>\n",
       "      <td>159</td>\n",
       "      <td>3</td>\n",
       "      <td>0</td>\n",
       "      <td>1</td>\n",
       "      <td>0</td>\n",
       "      <td>sales</td>\n",
       "      <td>low</td>\n",
       "    </tr>\n",
       "  </tbody>\n",
       "</table>\n",
       "</div>"
      ],
      "text/plain": [
       "   satisfaction_level  last_evaluation  number_project  average_montly_hours  \\\n",
       "0                0.38             0.53               2                   157   \n",
       "1                0.80             0.86               5                   262   \n",
       "2                0.11             0.88               7                   272   \n",
       "3                0.72             0.87               5                   223   \n",
       "4                0.37             0.52               2                   159   \n",
       "\n",
       "   time_spend_company  Work_accident  left  promotion_last_5years Department  \\\n",
       "0                   3              0     1                      0      sales   \n",
       "1                   6              0     1                      0      sales   \n",
       "2                   4              0     1                      0      sales   \n",
       "3                   5              0     1                      0      sales   \n",
       "4                   3              0     1                      0      sales   \n",
       "\n",
       "   salary  \n",
       "0     low  \n",
       "1  medium  \n",
       "2  medium  \n",
       "3     low  \n",
       "4     low  "
      ]
     },
     "execution_count": 2,
     "metadata": {},
     "output_type": "execute_result"
    }
   ],
   "source": [
    "df = pd.read_csv(\"HR_comma_sep.csv\")\n",
    "df.head()"
   ]
  },
  {
   "cell_type": "markdown",
   "metadata": {},
   "source": [
    "<h2 style=\"color:purple\">Data exploration and visualization</h2>"
   ]
  },
  {
   "cell_type": "code",
   "execution_count": 3,
   "metadata": {},
   "outputs": [
    {
     "data": {
      "text/plain": [
       "(3571, 10)"
      ]
     },
     "execution_count": 3,
     "metadata": {},
     "output_type": "execute_result"
    }
   ],
   "source": [
    "left = df[df.left==1]\n",
    "left.shape"
   ]
  },
  {
   "cell_type": "code",
   "execution_count": 4,
   "metadata": {},
   "outputs": [
    {
     "data": {
      "text/plain": [
       "(11428, 10)"
      ]
     },
     "execution_count": 4,
     "metadata": {},
     "output_type": "execute_result"
    }
   ],
   "source": [
    "retained = df[df.left==0]\n",
    "retained.shape"
   ]
  },
  {
   "cell_type": "markdown",
   "metadata": {},
   "source": [
    "**Average numbers for all columns** "
   ]
  },
  {
   "cell_type": "code",
   "execution_count": 5,
   "metadata": {
    "scrolled": false
   },
   "outputs": [
    {
     "ename": "TypeError",
     "evalue": "agg function failed [how->mean,dtype->object]",
     "output_type": "error",
     "traceback": [
      "\u001b[0;31m---------------------------------------------------------------------------\u001b[0m",
      "\u001b[0;31mTypeError\u001b[0m                                 Traceback (most recent call last)",
      "File \u001b[0;32m~/.cache/pypoetry/virtualenvs/data-science-work-mqn9WFvk-py3.10/lib/python3.10/site-packages/pandas/core/groupby/groupby.py:1942\u001b[0m, in \u001b[0;36mGroupBy._agg_py_fallback\u001b[0;34m(self, how, values, ndim, alt)\u001b[0m\n\u001b[1;32m   1941\u001b[0m \u001b[38;5;28;01mtry\u001b[39;00m:\n\u001b[0;32m-> 1942\u001b[0m     res_values \u001b[38;5;241m=\u001b[39m \u001b[38;5;28;43mself\u001b[39;49m\u001b[38;5;241;43m.\u001b[39;49m\u001b[43m_grouper\u001b[49m\u001b[38;5;241;43m.\u001b[39;49m\u001b[43magg_series\u001b[49m\u001b[43m(\u001b[49m\u001b[43mser\u001b[49m\u001b[43m,\u001b[49m\u001b[43m \u001b[49m\u001b[43malt\u001b[49m\u001b[43m,\u001b[49m\u001b[43m \u001b[49m\u001b[43mpreserve_dtype\u001b[49m\u001b[38;5;241;43m=\u001b[39;49m\u001b[38;5;28;43;01mTrue\u001b[39;49;00m\u001b[43m)\u001b[49m\n\u001b[1;32m   1943\u001b[0m \u001b[38;5;28;01mexcept\u001b[39;00m \u001b[38;5;167;01mException\u001b[39;00m \u001b[38;5;28;01mas\u001b[39;00m err:\n",
      "File \u001b[0;32m~/.cache/pypoetry/virtualenvs/data-science-work-mqn9WFvk-py3.10/lib/python3.10/site-packages/pandas/core/groupby/ops.py:864\u001b[0m, in \u001b[0;36mBaseGrouper.agg_series\u001b[0;34m(self, obj, func, preserve_dtype)\u001b[0m\n\u001b[1;32m    862\u001b[0m     preserve_dtype \u001b[38;5;241m=\u001b[39m \u001b[38;5;28;01mTrue\u001b[39;00m\n\u001b[0;32m--> 864\u001b[0m result \u001b[38;5;241m=\u001b[39m \u001b[38;5;28;43mself\u001b[39;49m\u001b[38;5;241;43m.\u001b[39;49m\u001b[43m_aggregate_series_pure_python\u001b[49m\u001b[43m(\u001b[49m\u001b[43mobj\u001b[49m\u001b[43m,\u001b[49m\u001b[43m \u001b[49m\u001b[43mfunc\u001b[49m\u001b[43m)\u001b[49m\n\u001b[1;32m    866\u001b[0m npvalues \u001b[38;5;241m=\u001b[39m lib\u001b[38;5;241m.\u001b[39mmaybe_convert_objects(result, try_float\u001b[38;5;241m=\u001b[39m\u001b[38;5;28;01mFalse\u001b[39;00m)\n",
      "File \u001b[0;32m~/.cache/pypoetry/virtualenvs/data-science-work-mqn9WFvk-py3.10/lib/python3.10/site-packages/pandas/core/groupby/ops.py:885\u001b[0m, in \u001b[0;36mBaseGrouper._aggregate_series_pure_python\u001b[0;34m(self, obj, func)\u001b[0m\n\u001b[1;32m    884\u001b[0m \u001b[38;5;28;01mfor\u001b[39;00m i, group \u001b[38;5;129;01min\u001b[39;00m \u001b[38;5;28menumerate\u001b[39m(splitter):\n\u001b[0;32m--> 885\u001b[0m     res \u001b[38;5;241m=\u001b[39m \u001b[43mfunc\u001b[49m\u001b[43m(\u001b[49m\u001b[43mgroup\u001b[49m\u001b[43m)\u001b[49m\n\u001b[1;32m    886\u001b[0m     res \u001b[38;5;241m=\u001b[39m extract_result(res)\n",
      "File \u001b[0;32m~/.cache/pypoetry/virtualenvs/data-science-work-mqn9WFvk-py3.10/lib/python3.10/site-packages/pandas/core/groupby/groupby.py:2454\u001b[0m, in \u001b[0;36mGroupBy.mean.<locals>.<lambda>\u001b[0;34m(x)\u001b[0m\n\u001b[1;32m   2451\u001b[0m \u001b[38;5;28;01melse\u001b[39;00m:\n\u001b[1;32m   2452\u001b[0m     result \u001b[38;5;241m=\u001b[39m \u001b[38;5;28mself\u001b[39m\u001b[38;5;241m.\u001b[39m_cython_agg_general(\n\u001b[1;32m   2453\u001b[0m         \u001b[38;5;124m\"\u001b[39m\u001b[38;5;124mmean\u001b[39m\u001b[38;5;124m\"\u001b[39m,\n\u001b[0;32m-> 2454\u001b[0m         alt\u001b[38;5;241m=\u001b[39m\u001b[38;5;28;01mlambda\u001b[39;00m x: \u001b[43mSeries\u001b[49m\u001b[43m(\u001b[49m\u001b[43mx\u001b[49m\u001b[43m,\u001b[49m\u001b[43m \u001b[49m\u001b[43mcopy\u001b[49m\u001b[38;5;241;43m=\u001b[39;49m\u001b[38;5;28;43;01mFalse\u001b[39;49;00m\u001b[43m)\u001b[49m\u001b[38;5;241;43m.\u001b[39;49m\u001b[43mmean\u001b[49m\u001b[43m(\u001b[49m\u001b[43mnumeric_only\u001b[49m\u001b[38;5;241;43m=\u001b[39;49m\u001b[43mnumeric_only\u001b[49m\u001b[43m)\u001b[49m,\n\u001b[1;32m   2455\u001b[0m         numeric_only\u001b[38;5;241m=\u001b[39mnumeric_only,\n\u001b[1;32m   2456\u001b[0m     )\n\u001b[1;32m   2457\u001b[0m     \u001b[38;5;28;01mreturn\u001b[39;00m result\u001b[38;5;241m.\u001b[39m__finalize__(\u001b[38;5;28mself\u001b[39m\u001b[38;5;241m.\u001b[39mobj, method\u001b[38;5;241m=\u001b[39m\u001b[38;5;124m\"\u001b[39m\u001b[38;5;124mgroupby\u001b[39m\u001b[38;5;124m\"\u001b[39m)\n",
      "File \u001b[0;32m~/.cache/pypoetry/virtualenvs/data-science-work-mqn9WFvk-py3.10/lib/python3.10/site-packages/pandas/core/series.py:6549\u001b[0m, in \u001b[0;36mSeries.mean\u001b[0;34m(self, axis, skipna, numeric_only, **kwargs)\u001b[0m\n\u001b[1;32m   6541\u001b[0m \u001b[38;5;129m@doc\u001b[39m(make_doc(\u001b[38;5;124m\"\u001b[39m\u001b[38;5;124mmean\u001b[39m\u001b[38;5;124m\"\u001b[39m, ndim\u001b[38;5;241m=\u001b[39m\u001b[38;5;241m1\u001b[39m))\n\u001b[1;32m   6542\u001b[0m \u001b[38;5;28;01mdef\u001b[39;00m \u001b[38;5;21mmean\u001b[39m(\n\u001b[1;32m   6543\u001b[0m     \u001b[38;5;28mself\u001b[39m,\n\u001b[0;32m   (...)\u001b[0m\n\u001b[1;32m   6547\u001b[0m     \u001b[38;5;241m*\u001b[39m\u001b[38;5;241m*\u001b[39mkwargs,\n\u001b[1;32m   6548\u001b[0m ):\n\u001b[0;32m-> 6549\u001b[0m     \u001b[38;5;28;01mreturn\u001b[39;00m \u001b[43mNDFrame\u001b[49m\u001b[38;5;241;43m.\u001b[39;49m\u001b[43mmean\u001b[49m\u001b[43m(\u001b[49m\u001b[38;5;28;43mself\u001b[39;49m\u001b[43m,\u001b[49m\u001b[43m \u001b[49m\u001b[43maxis\u001b[49m\u001b[43m,\u001b[49m\u001b[43m \u001b[49m\u001b[43mskipna\u001b[49m\u001b[43m,\u001b[49m\u001b[43m \u001b[49m\u001b[43mnumeric_only\u001b[49m\u001b[43m,\u001b[49m\u001b[43m \u001b[49m\u001b[38;5;241;43m*\u001b[39;49m\u001b[38;5;241;43m*\u001b[39;49m\u001b[43mkwargs\u001b[49m\u001b[43m)\u001b[49m\n",
      "File \u001b[0;32m~/.cache/pypoetry/virtualenvs/data-science-work-mqn9WFvk-py3.10/lib/python3.10/site-packages/pandas/core/generic.py:12420\u001b[0m, in \u001b[0;36mNDFrame.mean\u001b[0;34m(self, axis, skipna, numeric_only, **kwargs)\u001b[0m\n\u001b[1;32m  12413\u001b[0m \u001b[38;5;28;01mdef\u001b[39;00m \u001b[38;5;21mmean\u001b[39m(\n\u001b[1;32m  12414\u001b[0m     \u001b[38;5;28mself\u001b[39m,\n\u001b[1;32m  12415\u001b[0m     axis: Axis \u001b[38;5;241m|\u001b[39m \u001b[38;5;28;01mNone\u001b[39;00m \u001b[38;5;241m=\u001b[39m \u001b[38;5;241m0\u001b[39m,\n\u001b[0;32m   (...)\u001b[0m\n\u001b[1;32m  12418\u001b[0m     \u001b[38;5;241m*\u001b[39m\u001b[38;5;241m*\u001b[39mkwargs,\n\u001b[1;32m  12419\u001b[0m ) \u001b[38;5;241m-\u001b[39m\u001b[38;5;241m>\u001b[39m Series \u001b[38;5;241m|\u001b[39m \u001b[38;5;28mfloat\u001b[39m:\n\u001b[0;32m> 12420\u001b[0m     \u001b[38;5;28;01mreturn\u001b[39;00m \u001b[38;5;28;43mself\u001b[39;49m\u001b[38;5;241;43m.\u001b[39;49m\u001b[43m_stat_function\u001b[49m\u001b[43m(\u001b[49m\n\u001b[1;32m  12421\u001b[0m \u001b[43m        \u001b[49m\u001b[38;5;124;43m\"\u001b[39;49m\u001b[38;5;124;43mmean\u001b[39;49m\u001b[38;5;124;43m\"\u001b[39;49m\u001b[43m,\u001b[49m\u001b[43m \u001b[49m\u001b[43mnanops\u001b[49m\u001b[38;5;241;43m.\u001b[39;49m\u001b[43mnanmean\u001b[49m\u001b[43m,\u001b[49m\u001b[43m \u001b[49m\u001b[43maxis\u001b[49m\u001b[43m,\u001b[49m\u001b[43m \u001b[49m\u001b[43mskipna\u001b[49m\u001b[43m,\u001b[49m\u001b[43m \u001b[49m\u001b[43mnumeric_only\u001b[49m\u001b[43m,\u001b[49m\u001b[43m \u001b[49m\u001b[38;5;241;43m*\u001b[39;49m\u001b[38;5;241;43m*\u001b[39;49m\u001b[43mkwargs\u001b[49m\n\u001b[1;32m  12422\u001b[0m \u001b[43m    \u001b[49m\u001b[43m)\u001b[49m\n",
      "File \u001b[0;32m~/.cache/pypoetry/virtualenvs/data-science-work-mqn9WFvk-py3.10/lib/python3.10/site-packages/pandas/core/generic.py:12377\u001b[0m, in \u001b[0;36mNDFrame._stat_function\u001b[0;34m(self, name, func, axis, skipna, numeric_only, **kwargs)\u001b[0m\n\u001b[1;32m  12375\u001b[0m validate_bool_kwarg(skipna, \u001b[38;5;124m\"\u001b[39m\u001b[38;5;124mskipna\u001b[39m\u001b[38;5;124m\"\u001b[39m, none_allowed\u001b[38;5;241m=\u001b[39m\u001b[38;5;28;01mFalse\u001b[39;00m)\n\u001b[0;32m> 12377\u001b[0m \u001b[38;5;28;01mreturn\u001b[39;00m \u001b[38;5;28;43mself\u001b[39;49m\u001b[38;5;241;43m.\u001b[39;49m\u001b[43m_reduce\u001b[49m\u001b[43m(\u001b[49m\n\u001b[1;32m  12378\u001b[0m \u001b[43m    \u001b[49m\u001b[43mfunc\u001b[49m\u001b[43m,\u001b[49m\u001b[43m \u001b[49m\u001b[43mname\u001b[49m\u001b[38;5;241;43m=\u001b[39;49m\u001b[43mname\u001b[49m\u001b[43m,\u001b[49m\u001b[43m \u001b[49m\u001b[43maxis\u001b[49m\u001b[38;5;241;43m=\u001b[39;49m\u001b[43maxis\u001b[49m\u001b[43m,\u001b[49m\u001b[43m \u001b[49m\u001b[43mskipna\u001b[49m\u001b[38;5;241;43m=\u001b[39;49m\u001b[43mskipna\u001b[49m\u001b[43m,\u001b[49m\u001b[43m \u001b[49m\u001b[43mnumeric_only\u001b[49m\u001b[38;5;241;43m=\u001b[39;49m\u001b[43mnumeric_only\u001b[49m\n\u001b[1;32m  12379\u001b[0m \u001b[43m\u001b[49m\u001b[43m)\u001b[49m\n",
      "File \u001b[0;32m~/.cache/pypoetry/virtualenvs/data-science-work-mqn9WFvk-py3.10/lib/python3.10/site-packages/pandas/core/series.py:6457\u001b[0m, in \u001b[0;36mSeries._reduce\u001b[0;34m(self, op, name, axis, skipna, numeric_only, filter_type, **kwds)\u001b[0m\n\u001b[1;32m   6453\u001b[0m     \u001b[38;5;28;01mraise\u001b[39;00m \u001b[38;5;167;01mTypeError\u001b[39;00m(\n\u001b[1;32m   6454\u001b[0m         \u001b[38;5;124mf\u001b[39m\u001b[38;5;124m\"\u001b[39m\u001b[38;5;124mSeries.\u001b[39m\u001b[38;5;132;01m{\u001b[39;00mname\u001b[38;5;132;01m}\u001b[39;00m\u001b[38;5;124m does not allow \u001b[39m\u001b[38;5;132;01m{\u001b[39;00mkwd_name\u001b[38;5;132;01m}\u001b[39;00m\u001b[38;5;124m=\u001b[39m\u001b[38;5;132;01m{\u001b[39;00mnumeric_only\u001b[38;5;132;01m}\u001b[39;00m\u001b[38;5;124m \u001b[39m\u001b[38;5;124m\"\u001b[39m\n\u001b[1;32m   6455\u001b[0m         \u001b[38;5;124m\"\u001b[39m\u001b[38;5;124mwith non-numeric dtypes.\u001b[39m\u001b[38;5;124m\"\u001b[39m\n\u001b[1;32m   6456\u001b[0m     )\n\u001b[0;32m-> 6457\u001b[0m \u001b[38;5;28;01mreturn\u001b[39;00m \u001b[43mop\u001b[49m\u001b[43m(\u001b[49m\u001b[43mdelegate\u001b[49m\u001b[43m,\u001b[49m\u001b[43m \u001b[49m\u001b[43mskipna\u001b[49m\u001b[38;5;241;43m=\u001b[39;49m\u001b[43mskipna\u001b[49m\u001b[43m,\u001b[49m\u001b[43m \u001b[49m\u001b[38;5;241;43m*\u001b[39;49m\u001b[38;5;241;43m*\u001b[39;49m\u001b[43mkwds\u001b[49m\u001b[43m)\u001b[49m\n",
      "File \u001b[0;32m~/.cache/pypoetry/virtualenvs/data-science-work-mqn9WFvk-py3.10/lib/python3.10/site-packages/pandas/core/nanops.py:147\u001b[0m, in \u001b[0;36mbottleneck_switch.__call__.<locals>.f\u001b[0;34m(values, axis, skipna, **kwds)\u001b[0m\n\u001b[1;32m    146\u001b[0m \u001b[38;5;28;01melse\u001b[39;00m:\n\u001b[0;32m--> 147\u001b[0m     result \u001b[38;5;241m=\u001b[39m \u001b[43malt\u001b[49m\u001b[43m(\u001b[49m\u001b[43mvalues\u001b[49m\u001b[43m,\u001b[49m\u001b[43m \u001b[49m\u001b[43maxis\u001b[49m\u001b[38;5;241;43m=\u001b[39;49m\u001b[43maxis\u001b[49m\u001b[43m,\u001b[49m\u001b[43m \u001b[49m\u001b[43mskipna\u001b[49m\u001b[38;5;241;43m=\u001b[39;49m\u001b[43mskipna\u001b[49m\u001b[43m,\u001b[49m\u001b[43m \u001b[49m\u001b[38;5;241;43m*\u001b[39;49m\u001b[38;5;241;43m*\u001b[39;49m\u001b[43mkwds\u001b[49m\u001b[43m)\u001b[49m\n\u001b[1;32m    149\u001b[0m \u001b[38;5;28;01mreturn\u001b[39;00m result\n",
      "File \u001b[0;32m~/.cache/pypoetry/virtualenvs/data-science-work-mqn9WFvk-py3.10/lib/python3.10/site-packages/pandas/core/nanops.py:404\u001b[0m, in \u001b[0;36m_datetimelike_compat.<locals>.new_func\u001b[0;34m(values, axis, skipna, mask, **kwargs)\u001b[0m\n\u001b[1;32m    402\u001b[0m     mask \u001b[38;5;241m=\u001b[39m isna(values)\n\u001b[0;32m--> 404\u001b[0m result \u001b[38;5;241m=\u001b[39m \u001b[43mfunc\u001b[49m\u001b[43m(\u001b[49m\u001b[43mvalues\u001b[49m\u001b[43m,\u001b[49m\u001b[43m \u001b[49m\u001b[43maxis\u001b[49m\u001b[38;5;241;43m=\u001b[39;49m\u001b[43maxis\u001b[49m\u001b[43m,\u001b[49m\u001b[43m \u001b[49m\u001b[43mskipna\u001b[49m\u001b[38;5;241;43m=\u001b[39;49m\u001b[43mskipna\u001b[49m\u001b[43m,\u001b[49m\u001b[43m \u001b[49m\u001b[43mmask\u001b[49m\u001b[38;5;241;43m=\u001b[39;49m\u001b[43mmask\u001b[49m\u001b[43m,\u001b[49m\u001b[43m \u001b[49m\u001b[38;5;241;43m*\u001b[39;49m\u001b[38;5;241;43m*\u001b[39;49m\u001b[43mkwargs\u001b[49m\u001b[43m)\u001b[49m\n\u001b[1;32m    406\u001b[0m \u001b[38;5;28;01mif\u001b[39;00m datetimelike:\n",
      "File \u001b[0;32m~/.cache/pypoetry/virtualenvs/data-science-work-mqn9WFvk-py3.10/lib/python3.10/site-packages/pandas/core/nanops.py:720\u001b[0m, in \u001b[0;36mnanmean\u001b[0;34m(values, axis, skipna, mask)\u001b[0m\n\u001b[1;32m    719\u001b[0m the_sum \u001b[38;5;241m=\u001b[39m values\u001b[38;5;241m.\u001b[39msum(axis, dtype\u001b[38;5;241m=\u001b[39mdtype_sum)\n\u001b[0;32m--> 720\u001b[0m the_sum \u001b[38;5;241m=\u001b[39m \u001b[43m_ensure_numeric\u001b[49m\u001b[43m(\u001b[49m\u001b[43mthe_sum\u001b[49m\u001b[43m)\u001b[49m\n\u001b[1;32m    722\u001b[0m \u001b[38;5;28;01mif\u001b[39;00m axis \u001b[38;5;129;01mis\u001b[39;00m \u001b[38;5;129;01mnot\u001b[39;00m \u001b[38;5;28;01mNone\u001b[39;00m \u001b[38;5;129;01mand\u001b[39;00m \u001b[38;5;28mgetattr\u001b[39m(the_sum, \u001b[38;5;124m\"\u001b[39m\u001b[38;5;124mndim\u001b[39m\u001b[38;5;124m\"\u001b[39m, \u001b[38;5;28;01mFalse\u001b[39;00m):\n",
      "File \u001b[0;32m~/.cache/pypoetry/virtualenvs/data-science-work-mqn9WFvk-py3.10/lib/python3.10/site-packages/pandas/core/nanops.py:1701\u001b[0m, in \u001b[0;36m_ensure_numeric\u001b[0;34m(x)\u001b[0m\n\u001b[1;32m   1699\u001b[0m \u001b[38;5;28;01mif\u001b[39;00m \u001b[38;5;28misinstance\u001b[39m(x, \u001b[38;5;28mstr\u001b[39m):\n\u001b[1;32m   1700\u001b[0m     \u001b[38;5;66;03m# GH#44008, GH#36703 avoid casting e.g. strings to numeric\u001b[39;00m\n\u001b[0;32m-> 1701\u001b[0m     \u001b[38;5;28;01mraise\u001b[39;00m \u001b[38;5;167;01mTypeError\u001b[39;00m(\u001b[38;5;124mf\u001b[39m\u001b[38;5;124m\"\u001b[39m\u001b[38;5;124mCould not convert string \u001b[39m\u001b[38;5;124m'\u001b[39m\u001b[38;5;132;01m{\u001b[39;00mx\u001b[38;5;132;01m}\u001b[39;00m\u001b[38;5;124m'\u001b[39m\u001b[38;5;124m to numeric\u001b[39m\u001b[38;5;124m\"\u001b[39m)\n\u001b[1;32m   1702\u001b[0m \u001b[38;5;28;01mtry\u001b[39;00m:\n",
      "\u001b[0;31mTypeError\u001b[0m: Could not convert string 'salessalessalessalessalessalessalessalessalessalessalessalesaccountingaccountingaccountinghrhrhrhrtechnicaltechnicaltechnicaltechnicaltechnicaltechnicaltechnicaltechnicaltechnicaltechnicaltechnicalsupportsupportsupportsupportsupportsupportsupportsupportsupportsupportsupporttechnicaltechnicaltechnicalmanagementITITITITITproduct_mngproduct_mngproduct_mngproduct_mngITRandDRandDRandDRandDRandDmarketingsalesaccountingsupporttechnicalmanagementmarketingmarketingmarketingsalessalessalessalessalessalessalessalessalessalessalessalessalessalessalessalessalessalessalesaccountingaccountingaccountinghrhrhrhrtechnicaltechnicaltechnicaltechnicaltechnicaltechnicaltechnicaltechnicaltechnicaltechnicaltechnicalsupportsupportsupportsupportsupportsupportsupportsupportsupportsupportsupporttechnicaltechnicaltechnicalmanagementITITITITITproduct_mngproduct_mngproduct_mngproduct_mngITRandDRandDRandDRandDRandDmarketingsalesaccountingsupporttechnicalmanagementmarketingmarketingmarketingsalessalessalessalessalessalessalessalessalessalessalessalessalessalessalessalessalessalessalesaccountingaccountingaccountinghrhrhrhrtechnicaltechnicaltechnicaltechnicaltechnicaltechnicaltechnicaltechnicaltechnicaltechnicaltechnicalsupportsupportsupportsupportsupportsupportsupportsupportsupportsupportsupporttechnicaltechnicaltechnicalmanagementITITITITITproduct_mngproduct_mngproduct_mngproduct_mngITRandDRandDRandDRandDRandDmarketingsalesaccountingsupporttechnicalmanagementmarketingmarketingmarketingsalessalessalessalessalessalessalessalessalessalessalessalessalessalessalessalessalessalessalesaccountingaccountingaccountinghrhrhrhrtechnicaltechnicaltechnicaltechnicaltechnicaltechnicaltechnicaltechnicaltechnicaltechnicaltechnicalsupportsupportsupportsupportsupportsupportsupportsupportsupportsupportsupporttechnicaltechnicaltechnicalmanagementITITITITITproduct_mngproduct_mngproduct_mngproduct_mngITRandDRandDRandDRandDRandDmarketingsalesaccountingsupporttechnicalmanagementmarketingmarketingmarketingsalessalessalessalessalessalessalessalessalessalessalessalessalessalessalessalessalessalessalesaccountingaccountingaccountinghrhrhrhrtechnicaltechnicaltechnicaltechnicaltechnicaltechnicaltechnicaltechnicaltechnicaltechnicaltechnicalsupportsupportsupportsupportsupportsupportsupportsupportsupportsupportsupporttechnicaltechnicaltechnicalmanagementITITITITITproduct_mngproduct_mngproduct_mngproduct_mngITRandDRandDRandDRandDRandDmarketingsalesaccountingsupporttechnicalmanagementmarketingmarketingmarketingsalessalessalessalessalessalessalessalessalessalessalessalessalessalessalessalessalessalessalesaccountingaccountingaccountinghrhrhrhrtechnicaltechnicaltechnicaltechnicaltechnicaltechnicaltechnicaltechnicaltechnicaltechnicaltechnicalsupportsupportsupportsupportsupportsupportsupportsupportsupportsupportsupporttechnicaltechnicaltechnicalmanagementITITITITITproduct_mngproduct_mngproduct_mngproduct_mngITRandDRandDRandDRandDRandDmarketingsalesaccountingsupporttechnicalmanagementmarketingmarketingmarketingsalessalessalessalessalessalessalessalessalessalessalessalessalessalessalessalessalessalessalesaccountingaccountingaccountinghrhrhrhrtechnicaltechnicaltechnicaltechnicaltechnicaltechnicaltechnicaltechnicaltechnicaltechnicaltechnicalsupportsupportsupportsupportsupportsupportsupportsupportsupportsupportsupporttechnicaltechnicaltechnicalmanagementITITITITITproduct_mngproduct_mngproduct_mngproduct_mngITRandDRandDRandDRandDRandDmarketingmarketingsalesaccountingsupporttechnicalmanagementmarketingmarketingmarketingsalessalessalessalessalessalessalessalessalessalessalessalessalessalessalessalessalessalessalesaccountingaccountingaccountinghrhrhrhrtechnicaltechnicaltechnicaltechnicaltechnicaltechnicaltechnicaltechnicaltechnicaltechnicaltechnicalsupportsupportsupportsupportsupportsupportsupportsupportsupportsupportsupporttechnicaltechnicaltechnicalmanagementITITITITITproduct_mngproduct_mngproduct_mngproduct_mngITRandDRandDRandDRandDRandDRandDmarketingsalesaccountingsupporttechnicalmanagementmarketingmarketingmarketingsalessalessalessalessalessalessalessalessalessalessalessalessalessalessalessalessalessalessalesaccountingaccountingaccountinghrhrhrhrtechnicaltechnicaltechnicaltechnicaltechnicaltechnicaltechnicaltechnicaltechnicaltechnicaltechnicalsupportsupportsupportsupportsupportsupportsupportsupportsupportsupportsupporttechnicaltechnicaltechnicalmanagementITITITITITproduct_mngproduct_mngproduct_mngproduct_mngITRandDRandDRandDRandDRandDRandDmarketingsalesaccountingsupporttechnicalmanagementmarketingmarketingmarketingsalessalessalessalessalessalessalessalessalessalessalessalessalessalessalessalessalessalessalesaccountingaccountingaccountinghrhrhrhrtechnicaltechnicaltechnicaltechnicaltechnicaltechnicaltechnicaltechnicaltechnicaltechnicaltechnicalsupportsupportsupportsupportsupportsupportsupportsupportsupportsupportsupporttechnicaltechnicaltechnicalmanagementITITITITITproduct_mngproduct_mngproduct_mngproduct_mngITRandDRandDRandDRandDRandDRandDmarketingsalesaccountingsupporttechnicalmanagementmarketingmarketingmarketingsalessalessalessalessalessalessalessalessalessalessalessalessalessalessalessalessalessalessalesaccountingaccountingaccountinghrhrhrhrtechnicaltechnicaltechnicaltechnicaltechnicaltechnicaltechnicaltechnicaltechnicaltechnicaltechnicalsupportsupportsupportsupportsupportsupportsupportsupportsupportsupportsupporttechnicaltechnicaltechnicalmanagementITITITITITproduct_mngproduct_mngproduct_mngproduct_mngITRandDRandDRandDRandDRandDRandDmarketingsalesaccountingsupporttechnicalmanagementmarketingmarketingmarketingsalessalessalessalessalessalessalessalessalessalessalessalessalessalessalessalessalessalessalesaccountingaccountingaccountinghrhrhrhrtechnicaltechnicaltechnicaltechnicaltechnicaltechnicaltechnicaltechnicaltechnicaltechnicaltechnicalsupportsupportsupportsupportsupportsupportsupportsupportsupportsupportsupporttechnicaltechnicaltechnicalmanagementITITITITITproduct_mngproduct_mngproduct_mngproduct_mngITRandDRandDRandDRandDRandDmarketingsalesaccountingsupporttechnicalmanagementmarketingmarketingmarketingsalessalessalessalessalessalessalessalessalessalessalessalessalessalessalessalessalessalessalesaccountingaccountingaccountinghrhrhrhrtechnicaltechnicaltechnicaltechnicaltechnicaltechnicaltechnicaltechnicaltechnicaltechnicaltechnicalsupportsupportsupportsupportsupportsupportsupportsupportsupportsupportsupporttechnicaltechnicaltechnicalmanagementITITITITITproduct_mngproduct_mngproduct_mngproduct_mngITRandDRandDRandDRandDRandDmarketingmarketingsalesaccountingsupporttechnicalmanagementmarketingmarketingmarketingsalessalessalessalessalessalessalessalessalessalessalessalessalessalessalessalessalessalessalesaccountingaccountingaccountinghrhrhrhrtechnicaltechnicaltechnicaltechnicaltechnicaltechnicaltechnicaltechnicaltechnicaltechnicaltechnicalsupportsupportsupportsupportsupportsupportsupportsupportsupportsupportsupporttechnicaltechnicaltechnicalmanagementITITITITITproduct_mngproduct_mngproduct_mngproduct_mngITRandDRandDRandDRandDRandDmarketingsalesaccountingsupporttechnicalmanagementmarketingmarketingmarketingsalessalessalessalessalessalessalessalessalessalessalessalessalessalessalessalessalessalessalesaccountingaccountingaccountinghrhrhrhrtechnicaltechnicaltechnicaltechnicaltechnicaltechnicaltechnicaltechnicaltechnicaltechnicaltechnicalsupportsupportsupportsupportsupportsupportsupportsupportsupportsupportsupporttechnicaltechnicaltechnicalmanagementITITITITITproduct_mngproduct_mngproduct_mngproduct_mngITRandDRandDRandDRandDRandDmarketingsalesaccountingsupporttechnicalmanagementmarketingmarketingmarketingsalessalessalessalessalessalessalessalessalessalessalessalessalessalessalessalessalessalessalesaccountingaccountingaccountinghrhrhrhrtechnicaltechnicaltechnicaltechnicaltechnicaltechnicaltechnicaltechnicaltechnicaltechnicaltechnicalsupportsupportsupportsupportsupportsupportsupportsupportsupportsupportsupporttechnicaltechnicaltechnicalmanagementITITITITITproduct_mngproduct_mngproduct_mngproduct_mngITRandDRandDRandDRandDRandDmarketingsalesaccountingsupporttechnicalmanagementmarketingmarketingmarketingsalessalessalessalessalessalessalessalessalessalessalessalessalessalessalessalessalessalessalesaccountingaccountingaccountinghrhrhrhrtechnicaltechnicaltechnicaltechnicaltechnicaltechnicaltechnicaltechnicaltechnicaltechnicaltechnicalsupportsupportsupportsupportsupportsupportsupportsupportsupportsupportsupporttechnicaltechnicaltechnicalmanagementITITITITITproduct_mngproduct_mngproduct_mngproduct_mngITRandDRandDRandDRandDRandDmarketingsalesaccountingsupporttechnicalmanagementmarketingmarketingmarketingsalessalessalessalessalessalessalessalessalessalessalessalessalessalessalessalessalessalessalesaccountingaccountingaccountinghrhrhrhrtechnicaltechnicaltechnicaltechnicaltechnicaltechnicaltechnicaltechnicaltechnicaltechnicaltechnicalsupportsupportsupportsupportsupportsupportsupportsupportsupportsupportsupporttechnicaltechnicaltechnicalmanagementITITITITITproduct_mngproduct_mngproduct_mngproduct_mngITRandDRandDRandDRandDRandDmarketingsalesaccountingsupporttechnicalmanagementmarketingmarketingmarketingsalessalessalessalessalessalessalessalessalessalessalessalessalessalessalessalessalessalessalesaccountingaccountingaccountinghrhrhrhrtechnicaltechnicaltechnicaltechnicaltechnicaltechnicaltechnicaltechnicaltechnicaltechnicaltechnicalsupportsupportsupportsupportsupportsupportsupportsupportsupportsupportsupporttechnicaltechnicaltechnicalmanagementITITITITITproduct_mngproduct_mngproduct_mngproduct_mngITRandDRandDRandDRandDRandDmarketingsalesaccountingsupporttechnicalmanagementmarketingmarketingmarketingsalessalessalessalessalessalessalessalessalessalessalessalessalessalessalessalessalessalessalesaccountingaccountingaccountinghrhrhrhrtechnicaltechnicaltechnicaltechnicaltechnicaltechnicaltechnicaltechnicaltechnicaltechnicaltechnicalsupportsupportsupportsupportsupportsupportsupportsupportsupportsupportsupporttechnicaltechnicaltechnicalmanagementITITITITITproduct_mngproduct_mngproduct_mngproduct_mngITRandDRandDRandDRandDRandDmarketingsalesaccountingsupporttechnicalmanagementmarketingmarketingmarketingsalessalessalessalessalessalessalessalessalessalessalessalessalessalessalessalessalessalessalesaccountingaccountingaccountinghrhrhrhrtechnicaltechnicaltechnicaltechnicaltechnicaltechnicaltechnicaltechnicaltechnicaltechnicaltechnicalsupportsupportsupportsupportsupportsupportsupportsupportsupportsupportsupporttechnicaltechnicaltechnicalmanagementITITITITITproduct_mngproduct_mngproduct_mngproduct_mngITRandDRandDRandDRandDRandDmarketingsalesaccountingsupporttechnicalmanagementmarketingmarketingmarketingsalessalessalessalessalessalessalessalessalessalessalessalessalessalessalessalessalessalessalesaccountingaccountingaccountinghrhrhrhrtechnicaltechnicaltechnicaltechnicaltechnicaltechnicaltechnicaltechnicaltechnicaltechnicaltechnicalsupportsupportsupportsupportsupportsupportsupportsupportsupportsupportsupporttechnicaltechnicaltechnicalmanagementITITITITITproduct_mngproduct_mngproduct_mngproduct_mngITRandDRandDRandDRandDRandDmarketingsalesaccountingsupporttechnicalmanagementmarketingmarketingmarketingsalessalessalessalessalessalessalessalessalessalessalessalessalessalessalessalessalessalessalesaccountingaccountingaccountinghrhrhrhrtechnicaltechnicaltechnicaltechnicaltechnicaltechnicaltechnicaltechnicaltechnicaltechnicaltechnicalsupportsupportsupportsupportsupportsupportsupportsupportsupportsupportsupporttechnicaltechnicaltechnicalmanagementITITITITITproduct_mngproduct_mngproduct_mngproduct_mngITRandDRandDRandDRandDRandDmarketingsalesaccountingsupporttechnicalmanagementmarketingmarketingmarketingsalessalessalessalessalessalessalessalessalessalessalessalessalessalessalessalessalessalessalesaccountingaccountingaccountinghrhrhrhrtechnicaltechnicaltechnicaltechnicaltechnicaltechnicaltechnicaltechnicaltechnicaltechnicaltechnicalsupportsupportsupportsupportsupportsupportsupportsupportsupportsupportsupporttechnicaltechnicaltechnicalmanagementITITITITITproduct_mngproduct_mngproduct_mngproduct_mngITRandDRandDRandDRandDRandDmarketingsalesaccountingsupporttechnicalmanagementmarketingmarketingmarketingsalessalessalessalessalessalessalessalessalessalessalessalessalessalessalessalessalessalessalesaccountingaccountingaccountinghrhrhrhrtechnicaltechnicaltechnicaltechnicaltechnicaltechnicaltechnicaltechnicaltechnicaltechnicaltechnicalsupportsupportsupportsupportsupportsupportsupportsupportsupportsupportsupporttechnicaltechnicaltechnicalmanagementITITITITITproduct_mngproduct_mngproduct_mngproduct_mngITRandDRandDRandDRandDRandDmarketingmarketingsalesaccountingsupporttechnicalmanagementmarketingmarketingmarketingsalessalessalessalessalessalessalessalessalessalessalessalessalessalessalessalessalessalessalesaccountingaccountingaccountinghrhrhrhrtechnicaltechnicaltechnicaltechnicaltechnicaltechnicaltechnicaltechnicaltechnicaltechnicaltechnicalsupportsupportsupportsupportsupportsupportsupportsupportsupportsupportsupporttechnicaltechnicaltechnicalmanagementITITITITITproduct_mngproduct_mngproduct_mngproduct_mngITRandDRandDRandDRandDRandDRandDmarketingsalesaccountingsupporttechnicalmanagementmarketingmarketingmarketingsalessalessalessalessalessalessalessalessalessalessalessalessalessalessalessalessalessalessalesaccountingaccountingaccountinghrhrhrhrtechnicaltechnicaltechnicaltechnicaltechnicaltechnicaltechnicaltechnicaltechnicaltechnicaltechnicalsupportsupportsupportsupportsupportsupportsupportsupportsupportsupportsupporttechnicaltechnicaltechnicalmanagementITITITITITproduct_mngproduct_mngproduct_mngproduct_mngITRandDRandDRandDRandDRandDRandDmarketingsalesaccountingsupporttechnicalmanagementmarketingmarketingmarketingsalessalessalessalessalessalessalessalessalessalessalessalessalessalessalessalessalessalessalesaccountingaccountingaccountinghrhrhrhrtechnicaltechnicaltechnicaltechnicaltechnicaltechnicaltechnicaltechnicaltechnicaltechnicaltechnicalsupportsupportsupportsupportsupportsupportsupportsupportsupportsupportsupporttechnicaltechnicaltechnicalmanagementITITITITITproduct_mngproduct_mngproduct_mngproduct_mngITRandDRandDRandDRandDRandDRandDmarketingsalesaccountingsupporttechnicalmanagementmarketingmarketingmarketingsalessalessalessalessalessalessalessalessalessalessalessalessalessalessalessalessalessalessalesaccountingaccountingaccountinghrhrhrhrtechnicaltechnicaltechnicaltechnicaltechnicaltechnicaltechnicaltechnicaltechnicaltechnicaltechnicalsupportsupportsupportsupportsupportsupportsupportsupportsupportsupportsupporttechnicaltechnicaltechnicalmanagementITITITITITproduct_mngproduct_mngproduct_mngproduct_mngITRandDRandDRandDRandDRandDRandDmarketingsalesaccountingsupporttechnicalmanagementmarketingmarketingmarketingsalessalessalessalessalessalessalessalessalessalessalessalessalessalessalessalessalessalessalesaccountingaccountingaccountinghrhrhrhrtechnicaltechnicaltechnicaltechnicaltechnicaltechnicaltechnicaltechnicaltechnicaltechnicaltechnicalsupportsupportsupportsupportsupportsupportsupportsupportsupportsupportsupporttechnicaltechnicaltechnicalmanagementITITITITITproduct_mngproduct_mngproduct_mngproduct_mngITRandDRandDRandDRandDRandDmarketingsalesaccountingsupporttechnicalmanagementmarketingmarketingmarketingsalessalessalessalessalessalessalessalessalessalessalessalessalessalessalessalessalessalessalesaccountingaccountingaccountinghrhrhrhrtechnicaltechnicaltechnicaltechnicaltechnicaltechnicaltechnicaltechnicaltechnicaltechnicaltechnicalsupportsupportsupportsupportsupportsupportsupportsupportsupportsupportsupporttechnicaltechnicaltechnicalmanagementITITITITITproduct_mngproduct_mngproduct_mngproduct_mngITRandDRandDRandDRandDRandDmarketingmarketingsalesaccountingsupporttechnicalmanagementmarketingmarketingmarketingsalessalessalessalessalessalessalessalessalessalessalessalessalessalessalessalessalessalessalesaccountingaccountingaccountinghrhrhrhrtechnicaltechnicaltechnicaltechnicaltechnicaltechnicaltechnicaltechnicaltechnicaltechnicaltechnicalsupportsupportsupportsupportsupportsupportsupportsupportsupportsupportsupporttechnicaltechnicaltechnicalmanagementITITITITITproduct_mngproduct_mngproduct_mngproduct_mngITRandDRandDRandDRandDRandDmarketingsalesaccountingsupporttechnicalmanagementmarketingmarketingmarketingsalessalessalessalessalessalessalessalessalessalessalessalessalessalessalessalessalessalessalesaccountingaccountingaccountinghrhrhrhrtechnicaltechnicaltechnicaltechnicaltechnicaltechnicaltechnicaltechnicaltechnicaltechnicaltechnicalsupportsupportsupportsupportsupportsupportsupportsupportsupportsupportsupporttechnicaltechnicaltechnicalmanagementITITITITITproduct_mngproduct_mngproduct_mngproduct_mngITRandDRandDRandDRandDRandDmarketingsalesaccountingsupporttechnicalmanagementmarketingmarketingmarketingsalessalessalessalessalessalessalessalessalessalessalessalessalessalessalessalessalessalessalesaccountingaccountingaccountinghrhrhrhrtechnicaltechnicaltechnicaltechnicaltechnicaltechnicaltechnicaltechnicaltechnicaltechnicaltechnicalsupportsupportsupportsupportsupportsupportsupportsupportsupportsupportsupporttechnicaltechnicaltechnicalmanagementITITITITITproduct_mngproduct_mngproduct_mngproduct_mngITRandDRandDRandDRandDRandDmarketingsalesaccountingsupporttechnicalmanagementmarketingmarketingmarketingsalessalessalessalessalessalessalessalessalessalessalessalessalessalessalessalessalessalessalesaccountingaccountingaccountinghrhrhrhrtechnicaltechnicaltechnicaltechnicaltechnicaltechnicaltechnicaltechnicaltechnicaltechnicaltechnicalsupportsupportsupportsupportsupportsupportsupportsupportsupportsupportsupporttechnicaltechnicaltechnicalmanagementITITITITITproduct_mngproduct_mngproduct_mngproduct_mngITRandDRandDRandDRandDRandDmarketingsalesaccountingsupporttechnicalmanagementmarketingmarketingmarketingsalessalessalessalessalessalessalessalessalessalessalessalessalessalessalessalessalessalessalesaccountingaccountingaccountinghrhrhrhrtechnicaltechnicaltechnicaltechnicaltechnicaltechnicaltechnicaltechnicaltechnicaltechnicaltechnicalsupportsupportsupportsupportsupportsupportsupportsupportsupportsupportsupporttechnicaltechnicaltechnicalmanagementITITITITITproduct_mngproduct_mngproduct_mngproduct_mngITRandDRandDRandDRandDRandDmarketingsalesaccountingsupporttechnicalmanagementmarketingmarketingmarketingsalessalessalessalessalessalessalessalessalessalessalessalessalessalessalessalessalessalessalesaccountingaccountingaccountinghrhrhrhrtechnicaltechnicaltechnicaltechnicaltechnicaltechnicaltechnicaltechnicaltechnicaltechnicaltechnicalsupportsupportsupportsupportsupportsupportsupportsupportsupportsupportsupporttechnicaltechnicaltechnicalmanagementITITITITITproduct_mngproduct_mngproduct_mngproduct_mngITRandDRandDRandDRandDRandDmarketingsalesaccountingsupporttechnicalmanagementmarketingmarketingmarketingsalessalessalessalessalessalessalessalessalessalessalessalessalessalessalessalessalessalessalesaccountingaccountingaccountinghrhrhrhrtechnicaltechnicaltechnicaltechnicaltechnicaltechnicaltechnicaltechnicaltechnicaltechnicaltechnicalsupportsupportsupportsupportsupportsupportsupportsupportsupportsupportsupporttechnicaltechnicaltechnicalmanagementITITITITITproduct_mngproduct_mngproduct_mngproduct_mngITRandDRandDRandDRandDRandDmarketingsalesaccountingsupporttechnicalmanagementmarketingmarketingmarketingsalessalessalessalessalessalessalessalessalessalessalessalessalessalessalessalessalessalessalesaccountingaccountingaccountinghrhrhrhrtechnicaltechnicaltechnicaltechnicaltechnicaltechnicaltechnicaltechnicaltechnicaltechnicaltechnicalsupportsupportsupportsupportsupportsupportsupportsupportsupportsupportsupporttechnicaltechnicaltechnicalmanagementITITITITITproduct_mngproduct_mngproduct_mngproduct_mngITRandDRandDRandDRandDRandDmarketingsalesaccountingsupporttechnicalmanagementmarketingmarketingmarketingsalessalessalessalessalessalessalessalessalessalessalessalessalessalessalessalessalessalessalesaccountingaccountingaccountinghrhrhrhrtechnicaltechnicaltechnicaltechnicaltechnicaltechnicaltechnicaltechnicaltechnicaltechnicaltechnicalsupportsupportsupportsupportsupportsupportsupportsupportsupportsupportsupporttechnicaltechnicaltechnicalmanagementITITITITITproduct_mngproduct_mngproduct_mngproduct_mngITRandDRandDRandDRandDRandDmarketingsalesaccountingsupporttechnicalmanagementmarketingmarketingmarketingsalessalessalessalessalessalessalessalessalessalessalessalessalessalessalessalessalessalessalesaccountingaccountingaccountinghrhrhrhrtechnicaltechnicaltechnicaltechnicaltechnicaltechnicaltechnicaltechnicaltechnicaltechnicaltechnicalsupportsupportsupportsupportsupportsupportsupportsupportsupportsupportsupporttechnicaltechnicaltechnicalmanagementITITITITITproduct_mngproduct_mngproduct_mngproduct_mngITRandDRandDRandDRandDRandDmarketingsalesaccountingsupporttechnicalmanagementmarketingmarketingmarketingsalessalessalessalessalessalessalessalessalessalessalessalessalessalessalessalessalessalessalesaccountingaccountingaccountinghrhrhrhrtechnicaltechnicaltechnicaltechnicaltechnicaltechnicaltechnicaltechnicaltechnicaltechnicaltechnicalsupportsupportsupportsupportsupportsupportsupportsupportsupportsupportsupporttechnicaltechnicaltechnicalmanagementITITITITITproduct_mngproduct_mngproduct_mngproduct_mngITRandDRandDRandDRandDRandDmarketingsalesaccountingsupporttechnicalmanagementmarketingmarketingmarketingsalessalessalessalessalessalessalessalessalessalessalessalessalessalessalessalessalessalessalesaccountingaccountingaccountinghrhrhrhrtechnicaltechnicaltechnicaltechnicaltechnicaltechnicaltechnicaltechnicaltechnicaltechnicaltechnicalsupportsupportsupportsupportsupportsupportsupportsupportsupportsupportsupporttechnicaltechnicaltechnicalmanagementITITITITITproduct_mngproduct_mngproduct_mngproduct_mngITRandDRandDRandDRandDRandDmarketingmarketingsalesaccountingsupporttechnicalmanagementmarketingmarketingmarketingsalessalessalessalessalessalessalessalessalessalessalessalessalessalessalessalessalessalessalesaccountingaccountingaccountinghrhrhrhrtechnicaltechnicaltechnicaltechnicaltechnicaltechnicaltechnicaltechnicaltechnicaltechnicaltechnicalsupportsupportsupportsupportsupportsupportsupportsupportsupportsupportsupporttechnicaltechnicaltechnicalmanagementITITITITITproduct_mngproduct_mngproduct_mngproduct_mngITRandDRandDRandDRandDRandDRandDmarketingsalesaccountingsupporttechnicalmanagementmarketingmarketingmarketingsalessalessalessalessalessalessalessalessalessalessalessalessalessalessalessalessalessalessalesaccountingaccountingaccountinghrhrhrhrtechnicaltechnicaltechnicaltechnicaltechnicaltechnicaltechnicaltechnicaltechnicaltechnicaltechnicalsupportsupportsupportsupportsupportsupportsupportsupportsupportsupportsupporttechnicaltechnicaltechnicalmanagementITITITITITproduct_mngproduct_mngproduct_mngproduct_mngITRandDRandDRandDRandDRandDRandDmarketingsalesaccountingsupporttechnicalmanagementmarketingmarketingmarketingsalessalessalessalessalessalessalessalessalessalessalessalessalessalessalessalessalessalessalesaccountingaccountingaccountinghrhrhrhrtechnicaltechnicaltechnicaltechnicaltechnicaltechnicaltechnicaltechnicaltechnicaltechnicaltechnicalsupportsupportsupportsupportsupportsupportsupportsupportsupportsupportsupporttechnicaltechnicaltechnicalmanagementITITITITITproduct_mngproduct_mngproduct_mngproduct_mngITRandDRandDRandDRandDRandDRandDmarketingsalesaccountingsupporttechnicalmanagementmarketingmarketingmarketingsalessalessalessalessalessalessalessalessalessalessalessalessalessalessalessalessalessalessalesaccountingaccountingaccountinghrhrhrhrtechnicaltechnicaltechnicaltechnicaltechnicaltechnicaltechnicaltechnicaltechnicaltechnicaltechnicalsupportsupportsupportsupportsupportsupportsupportsupportsupportsupportsupporttechnicaltechnicaltechnicalmanagementITITITITITproduct_mngproduct_mngproduct_mngproduct_mngITRandDRandDRandDRandDRandDRandDmarketingsalesaccountingsupporttechnicalmanagementmarketingmarketingmarketingsalessalessalessalessalessalessalessalessalessalessalessalessalessalessalessalessalessalessalesaccountingaccountingaccountinghrhrhrhrtechnicaltechnicaltechnicaltechnicaltechnicaltechnicaltechnicaltechnicaltechnicaltechnicaltechnicalsupportsupportsupportsupportsupportsupportsupportsupportsupportsupportsupporttechnicaltechnicaltechnicalmanagementITITITITITproduct_mngproduct_mngproduct_mngproduct_mngITRandDRandDRandDRandDRandDmarketingsalesaccountingsupporttechnicalmanagementmarketingmarketingmarketingsalessalessalessalessalessalessalessalessalessalessalessalessalessalessalessalessalessalessalesaccountingaccountingaccountinghrhrhrhrtechnicaltechnicaltechnicaltechnicaltechnicaltechnicaltechnicaltechnicaltechnicaltechnicaltechnicalsupportsupportsupportsupportsupportsupportsupportsupportsupportsupportsupporttechnicaltechnicaltechnicalmanagementITITITITITproduct_mngproduct_mngproduct_mngproduct_mngITRandDRandDRandDRandDRandDmarketingmarketingsalesaccountingsupporttechnicalmanagementmarketingmarketingmarketingsalessalessalessalessalessalessalessalessalessalessalessalessalessalessalessalessalessalessalesaccountingaccountingaccountinghrhrhrhrtechnicaltechnicaltechnicaltechnicaltechnicaltechnicaltechnicaltechnicaltechnicaltechnicaltechnicalsupportsupportsupportsupportsupportsupportsupportsupportsupportsupportsupporttechnicaltechnicaltechnicalmanagementITITITITITproduct_mngproduct_mngproduct_mngproduct_mngITRandDRandDRandDRandDRandDmarketingsalesaccountingsupporttechnicalmanagementmarketingmarketingmarketingsalessalessalessalessalessalessalessalessalessalessalessalessalessalessalessalessalessalessalesaccountingaccountingaccountinghrhrhrhrtechnicaltechnicaltechnicaltechnicaltechnicaltechnicaltechnicaltechnicaltechnicaltechnicaltechnicalsupportsupportsupportsupportsupportsupportsupportsupportsupportsupportsupporttechnicaltechnicaltechnicalmanagementITITITITITproduct_mngproduct_mngproduct_mngproduct_mngITRandDRandDRandDRandDRandDmarketingsalesaccountingsupporttechnicalmanagementmarketingmarketingmarketingsalessalessalessalessalessalessalessalessalessalessalessalessalessalessalessalessalessalessalesaccountingaccountingaccountinghrhrhrhrtechnicaltechnicaltechnicaltechnicaltechnicaltechnicaltechnicaltechnicaltechnicaltechnicaltechnicalsupportsupportsupportsupportsupportsupportsupportsupportsupportsupportsupporttechnicaltechnicaltechnicalmanagementITITITITITproduct_mngproduct_mngproduct_mngproduct_mngITRandDRandDRandDRandDRandDmarketingsalesaccountingsupporttechnicalmanagementmarketingmarketingmarketingsalessalessalessalessalessalessalessalessalessalessalessalessalessalessalessalessalessalessalesaccountingaccountingaccountinghrhrhrhrtechnicaltechnicaltechnicaltechnicaltechnicaltechnicaltechnicaltechnicaltechnicaltechnicaltechnicalsupportsupportsupportsupportsupportsupportsupportsupportsupportsupportsupporttechnicaltechnicaltechnicalmanagementITITITITITproduct_mngproduct_mngproduct_mngproduct_mngITRandDRandDRandDRandDRandDmarketingsalesaccountingsupporttechnicalmanagementmarketingmarketingmarketingsalessalessalessalessalessalessalessalessalessalessalessalessalessalessalessalessalessalessalesaccountingaccountingaccountinghrhrhrhrtechnicaltechnicaltechnicaltechnicaltechnicaltechnicaltechnicaltechnicaltechnicaltechnicaltechnicalsupportsupportsupportsupportsupportsupportsupportsupportsupportsupportsupporttechnicaltechnicaltechnicalmanagementITITITITITproduct_mngproduct_mngproduct_mngproduct_mngITRandDRandDRandDRandDRandDmarketingsalesaccountingsupporttechnicalmanagementmarketingmarketingmarketingsalessalessalessalessalessalessalessalessalessalessalessalessalessalessalessalessalessalessalesaccountingaccountingaccountinghrhrhrhrtechnicaltechnicaltechnicaltechnicaltechnicaltechnicaltechnicaltechnicaltechnicaltechnicaltechnicalsupportsupportsupportsupportsupportsupportsupportsupportsupportsupportsupporttechnicaltechnicaltechnicalmanagementITITITITITproduct_mngproduct_mngproduct_mngproduct_mngITRandDRandDRandDRandDRandDmarketingsalesaccountingsupporttechnicalmanagementmarketingmarketingmarketingsalessalessalessalessalessalessalessalessalessalessalessalessalessalessalessalessalessalessalesaccountingaccountingaccountinghrhrhrhrtechnicaltechnicaltechnicaltechnicaltechnicaltechnicaltechnicaltechnicaltechnicaltechnicaltechnicalsupportsupportsupportsupportsupportsupportsupportsupportsupportsupportsupporttechnicaltechnicaltechnicalmanagementITITITITITproduct_mngproduct_mngproduct_mngproduct_mngITRandDRandDRandDRandDRandDmarketingsalesaccountingsupporttechnicalmanagementmarketingmarketingmarketingsalessalessalessalessalessalessalessalessalessalessalessalessalessalessalessalessalessalessalesaccountingaccountingaccountinghrhrhrhrtechnicaltechnicaltechnicaltechnicaltechnicaltechnicaltechnicaltechnicaltechnicaltechnicaltechnicalsupportsupportsupportsupportsupportsupportsupportsupportsupportsupportsupporttechnicaltechnicaltechnicalmanagementITITITITITproduct_mngproduct_mngproduct_mngproduct_mngITRandDRandDRandDRandDRandDmarketingsalesaccountingsupporttechnicalmanagementmarketingmarketingmarketingsalessalessalessalessalessalessalessalessalessalessalessalessalessalessalessalessalessalessalesaccountingaccountingaccountinghrhrhrhrtechnicaltechnicaltechnicaltechnicaltechnicaltechnicaltechnicaltechnicaltechnicaltechnicaltechnicalsupportsupportsupportsupportsupportsupportsupportsupportsupportsupportsupporttechnicaltechnicaltechnicalmanagementITITITITITproduct_mngproduct_mngproduct_mngproduct_mngITRandDRandDRandDRandDRandDmarketingsalesaccountingsupporttechnicalmanagementmarketingmarketingmarketingsalessalessalessalessalessalessalessalessalessalessalessalessalessalessalessalessalessalessalesaccountingaccountingaccountinghrhrhrhrtechnicaltechnicaltechnicaltechnicaltechnicaltechnicaltechnicaltechnicaltechnicaltechnicaltechnicalsupportsupportsupportsupportsupportsupportsupportsupportsupportsupportsupporttechnicaltechnicaltechnicalmanagementITITITITITproduct_mngproduct_mngproduct_mngproduct_mngITRandDRandDRandDRandDRandDmarketingsalesaccountingsupporttechnicalmanagementmarketingmarketingmarketingsalessalessalessalessalessalessalessalessalessalessalessalessalessalessalessalessalessalessalesaccountingaccountingaccountinghrhrhrhrtechnicaltechnicaltechnicaltechnicaltechnicaltechnicaltechnicaltechnicaltechnicaltechnicaltechnicalsupportsupportsupportsupportsupportsupportsupportsupportsupportsupportsupporttechnicaltechnicaltechnicalmanagementITITITITITproduct_mngproduct_mngproduct_mngproduct_mngITRandDRandDRandDRandDRandDmarketingsalesaccountingsupporttechnicalmanagementmarketingmarketingmarketingsalessalessalessalessalessalessalessalessalessalessalessalessalessalessalessalessalessalessalesaccountingaccountingaccountinghrhrhrhrtechnicaltechnicaltechnicaltechnicaltechnicaltechnicaltechnicaltechnicaltechnicaltechnicaltechnicalsupportsupportsupportsupportsupportsupportsupportsupportsupportsupportsupporttechnicaltechnicaltechnicalmanagementITITITITITproduct_mngproduct_mngproduct_mngproduct_mngITRandDRandDRandDRandDRandDmarketingmarketingsalesaccountingsupporttechnicalmanagementmarketingmarketingmarketingsalessalessalessalessalessalessalessalessalessalessalessalessalessalessalessalessalessalessalesaccountingaccountingaccountinghrhrhrhrtechnicaltechnicaltechnicaltechnicaltechnicaltechnicaltechnicaltechnicaltechnicaltechnicaltechnicalsupportsupportsupportsupportsupportsupportsupportsupportsupportsupportsupporttechnicaltechnicaltechnicalmanagementITITITITITproduct_mngproduct_mngproduct_mngproduct_mngITRandDRandDRandDRandDRandDRandDmarketingsalesaccountingsupporttechnicalmanagementmarketingmarketingmarketingsalessalessalessalessalessalessalessalessalessalessalessalessalessalessalessalessalessalessalesaccountingaccountingaccountinghrhrhrhrtechnicaltechnicaltechnicaltechnicaltechnicaltechnicaltechnicaltechnicaltechnicaltechnicaltechnicalsupportsupportsupportsupportsupportsupportsupportsupportsupportsupportsupporttechnicaltechnicaltechnicalmanagementITITITITITproduct_mngproduct_mngproduct_mngproduct_mngITRandDRandDRandDRandDRandDRandDmarketingsalesaccountingsupporttechnicalmanagementmarketingmarketingmarketingsalessalessalessalessalessalessalessalessalessalessalessalessalessalessalessalessalessalessalesaccountingaccountingaccountinghrhrhrhrtechnicaltechnicaltechnicaltechnicaltechnicaltechnicaltechnicaltechnicaltechnicaltechnicaltechnicalsupportsupportsupportsupportsupportsupportsupportsupportsupportsupportsupporttechnicaltechnicaltechnicalmanagementITITITITITproduct_mngproduct_mngproduct_mngproduct_mngITRandDRandDRandDRandDRandDRandDmarketingsalesaccountingsupporttechnicalmanagementmarketingmarketingmarketingsalessalessalessalessalessalessalessalessalessalessalessalessalessalessalessalessalessalessalesaccountingaccountingaccountinghrhrhrhrtechnicaltechnicaltechnicaltechnicaltechnicaltechnicaltechnicaltechnicaltechnicaltechnicaltechnicalsupportsupportsupportsupportsupportsupportsupportsupportsupportsupportsupporttechnicaltechnicaltechnicalmanagementITITITITITproduct_mngproduct_mngproduct_mngproduct_mngITRandDRandDRandDRandDRandDRandDmarketingsalesaccountingsupporttechnicalmanagementmarketingmarketingmarketingsalessalessalessalessalessalessalessalessalessalessalessalessalessalessalessalessalessalessalesaccountingaccountingaccountinghrhrhrhrtechnicaltechnicaltechnicaltechnicaltechnicaltechnicaltechnicaltechnicaltechnicaltechnicaltechnicalsupportsupportsupportsupportsupportsupportsupportsupportsupportsupportsupporttechnicaltechnicaltechnicalmanagementITITITITITproduct_mngproduct_mngproduct_mngproduct_mngITRandDRandDRandDRandDRandDmarketingsalesaccountingsupporttechnicalmanagementmarketingmarketingmarketingsalessalessalessalessalessalessalessalessalessalessalessalessalessalessalessalessalessalessalesaccountingaccountingaccountinghrhrhrhrtechnicaltechnicaltechnicaltechnicaltechnicaltechnicaltechnicaltechnicaltechnicaltechnicaltechnicalsupportsupportsupportsupportsupportsupportsupportsupportsupportsupportsupporttechnicaltechnicaltechnicalmanagementITITITITITproduct_mngproduct_mngproduct_mngproduct_mngITRandDRandDRandDRandDRandDmarketingmarketingsalesaccountingsupporttechnicalmanagementmarketingmarketingmarketingsalessalessalessalessalessalessalessalessalessalessalessalessalessalessalessalessalessalessalesaccountingaccountingaccountinghrhrhrhrtechnicaltechnicaltechnicaltechnicaltechnicaltechnicaltechnicaltechnicaltechnicaltechnicaltechnicalsupportsupportsupportsupportsupportsupportsupportsupportsupportsupportsupporttechnicaltechnicaltechnicalmanagementITITITITITproduct_mngproduct_mngproduct_mngproduct_mngITRandDRandDRandDRandDRandDmarketingsalesaccountingsupporttechnicalmanagementmarketingmarketingmarketingsalessalessalessalessalessalessalessalessalessalessalessalessalessalessalessalessalessalessalesaccountingaccountingaccountinghrhrhrhrtechnicaltechnicaltechnicaltechnicaltechnicaltechnicaltechnicaltechnicaltechnicaltechnicaltechnicalsupportsupportsupportsupportsupportsupportsupportsupportsupportsupportsupporttechnicaltechnicaltechnicalmanagementITITITITITproduct_mngproduct_mngproduct_mngproduct_mngITRandDRandDRandDRandDRandDmarketingsalesaccountingsupporttechnicalmanagementmarketingmarketingmarketingsalessalessalessalessalessalessalessalessalessalessalessalessalessalessalessalessalessalessalesaccountingaccountingaccountinghrhrhrhrtechnicaltechnicaltechnicaltechnicaltechnicaltechnicaltechnicaltechnicaltechnicaltechnicaltechnicalsupportsupportsupportsupportsupportsupportsupportsupportsupportsupportsupporttechnicaltechnicaltechnicalmanagementITITITITITproduct_mngproduct_mngproduct_mngproduct_mngITRandDRandDRandDRandDRandDmarketingsalesaccountingsupporttechnicalmanagementmarketingmarketingmarketingsalessalessalessalessalessalessalessalessalessalessalessalessalessalessalessalessalessalessalesaccountingaccountingaccountinghrhrhrhrtechnicaltechnicaltechnicaltechnicaltechnicaltechnicaltechnicaltechnicaltechnicaltechnicaltechnicalsupportsupportsupportsupportsupportsupportsupportsupportsupportsupportsupporttechnicaltechnicaltechnicalmanagementITITITITITproduct_mngproduct_mngproduct_mngproduct_mngITRandDRandDRandDRandDRandDmarketingsalesaccountingsupporttechnicalmanagementmarketingmarketingmarketingsalessalessalessalessalessalessalessalessalessalessalessalessalessalessalessalessalessalessalesaccountingaccountingaccountinghrhrhrhrtechnicaltechnicaltechnicaltechnicaltechnicaltechnicaltechnicaltechnicaltechnicaltechnicaltechnicalsupportsupportsupportsupportsupportsupportsupportsupportsupportsupportsupporttechnicaltechnicaltechnicalmanagementITITITITITproduct_mngproduct_mngproduct_mngproduct_mngITRandDRandDRandDRandDRandDmarketingsalesaccountingsupporttechnicalmanagementmarketingmarketingmarketingsalessalessalessalessalessalessalessalessalessalessalessalessalessalessalessalessalessalessalesaccountingaccountingaccountinghrhrhrhrtechnicaltechnicaltechnicaltechnicaltechnicaltechnicaltechnicaltechnicaltechnicaltechnicaltechnicalsupportsupportsupportsupportsupportsupportsupportsupportsupportsupportsupporttechnicaltechnicaltechnicalmanagementITITITITITproduct_mngproduct_mngproduct_mngproduct_mngITRandDRandDRandDRandDRandDmarketingsalesaccountingsupporttechnicalmanagementmarketingmarketingmarketingsalessalessalessalessalessalessalessalessalessalessalessalessalessalessalessalessalessalessalesaccountingaccountingaccountinghrhrhrhrtechnicaltechnicaltechnicaltechnicaltechnicaltechnicaltechnicaltechnicaltechnicaltechnicaltechnicalsupportsupportsupportsupportsupportsupportsupportsupportsupportsupportsupporttechnicaltechnicaltechnicalmanagementITITITITITproduct_mngproduct_mngproduct_mngproduct_mngITRandDRandDRandDRandDRandDmarketingsalesaccountingsupporttechnicalmanagementmarketingmarketingmarketingsalessalessalessalessalessalessalessalessalessalessalessalessalessalessalessalessalessalessalesaccountingaccountingaccountinghrhrhrhrtechnicaltechnicaltechnicaltechnicaltechnicaltechnicaltechnicaltechnicaltechnicaltechnicaltechnicalsupportsupportsupportsupportsupportsupportsupportsupportsupportsupportsupporttechnicaltechnicaltechnicalmanagementITITITITITproduct_mngproduct_mngproduct_mngproduct_mngITRandDRandDRandDRandDRandDmarketingsalesaccountingsupporttechnicalmanagementmarketingmarketingmarketingsalessalessalessalessalessalessalessalessalessalessalessalessalessalessalessalessalessalessalesaccountingaccountingaccountinghrhrhrhrtechnicaltechnicaltechnicaltechnicaltechnicaltechnicaltechnicaltechnicaltechnicaltechnicaltechnicalsupportsupportsupportsupportsupportsupportsupportsupportsupportsupportsupporttechnicaltechnicaltechnicalmanagementITITITITITproduct_mngproduct_mngproduct_mngproduct_mngITRandDRandDRandDRandDRandDmarketingsalesaccountingsupporttechnicalmanagementmarketingmarketingmarketingsalessalessalessalessalessalessalessalessalessalessalessalessalessalessalessalessalessalessalesaccountingaccountingaccountinghrhrhrhrtechnicaltechnicaltechnicaltechnicaltechnicaltechnicaltechnicaltechnicaltechnicaltechnicaltechnicalsupportsupportsupportsupportsupportsupportsupportsupportsupportsupportsupporttechnicaltechnicaltechnicalmanagementITITITITITproduct_mngproduct_mngproduct_mngproduct_mngITRandDRandDRandDRandDRandDmarketingsalesaccountingsupporttechnicalmanagementmarketingmarketingmarketingsalessalessalessalessalessalessalessalessalessalessalessalessalessalessalessalessalessalessalesaccountingaccountingaccountinghrhrhrhrtechnicaltechnicaltechnicaltechnicaltechnicaltechnicaltechnicaltechnicaltechnicaltechnicaltechnicalsupportsupportsupportsupportsupportsupportsupportsupportsupportsupportsupporttechnicaltechnicaltechnicalmanagementITITITITITproduct_mngproduct_mngproduct_mngproduct_mngITRandDRandDRandDRandDRandDmarketingsalesaccountingsupporttechnicalmanagementmarketingmarketingmarketingsalessalessalessalessalessalessalessalessalessalessalessalessalessalessalessalessalessalessalesaccountingaccountingaccountinghrhrhrhrtechnicaltechnicaltechnicaltechnicaltechnicaltechnicaltechnicaltechnicaltechnicaltechnicaltechnicalsupportsupportsupportsupportsupportsupportsupportsupportsupportsupportsupporttechnicaltechnicaltechnicalmanagementITITITITITproduct_mngproduct_mngproduct_mngproduct_mngITRandDRandDRandDRandDRandDmarketingmarketingsalesaccountingsupporttechnicalmanagementmarketingmarketingmarketingsalessalessalessalessalessalessalessalessalessalessalessalessalessalessalessalessalessalessalesaccountingaccountingaccountinghrhrhrhrtechnicaltechnicaltechnicaltechnicaltechnicaltechnicaltechnicaltechnicaltechnicaltechnicaltechnicalsupportsupportsupportsupportsupportsupportsupportsupportsupportsupportsupporttechnicaltechnicaltechnicalmanagementITITITITITproduct_mngproduct_mngproduct_mngproduct_mngITRandDRandDRandDRandDRandDRandDmarketingsalesaccountingsupporttechnicalmanagementmarketingmarketingmarketingsalessalessalessalessalessalessalessalessalessalessalessalessalessalessalessalessalessalessalesaccountingaccountingaccountinghrhrhrhrtechnicaltechnicaltechnicaltechnicaltechnicaltechnicaltechnicaltechnicaltechnicaltechnicaltechnicalsupportsupportsupportsupportsupportsupportsupportsupportsupportsupportsupporttechnicaltechnicaltechnicalmanagementITITITITITproduct_mngproduct_mngproduct_mngproduct_mngITRandDRandDRandDRandDRandDRandDmarketingsalesaccountingsupporttechnicalmanagementmarketingmarketingmarketingsalessalessalessalessalessalessalessalessalessalessalessalessalessalessalessalessalessalessalesaccountingaccountingaccountinghrhrhrhrtechnicaltechnicaltechnicaltechnicaltechnicaltechnicaltechnicaltechnicaltechnicaltechnicaltechnicalsupportsupportsupportsupportsupportsupportsupportsupportsupportsupportsupporttechnicaltechnicaltechnicalmanagementITITITITITproduct_mngproduct_mngproduct_mngproduct_mngITRandDRandDRandDRandDRandDRandDmarketingsalesaccountingsupporttechnicalmanagementmarketingmarketingmarketingsalessalessalessalessalessalessalessalessalessalessalessalessalessalessalessalessalessalessalesaccountingaccountingaccountinghrhrhrhrtechnicaltechnicaltechnicaltechnicaltechnicaltechnicaltechnicaltechnicaltechnicaltechnicaltechnicalsupportsupportsupportsupportsupportsupportsupportsupportsupportsupportsupporttechnicaltechnicaltechnicalmanagementITITITITITproduct_mngproduct_mngproduct_mngproduct_mngITRandDRandDRandDRandDRandDRandDmarketingsalesaccountingsupporttechnicalmanagementmarketingmarketingmarketingsalessalessalessalessalessalessalessalessalessalessalessalessalessalessalessalessalessalessalesaccountingaccountingaccountinghrhrhrhrtechnicaltechnicaltechnicaltechnicaltechnicaltechnicaltechnicaltechnicaltechnicaltechnicaltechnicalsupportsupportsupportsupportsupportsupportsupportsupportsupportsupportsupporttechnicaltechnicaltechnicalmanagementITITITITITproduct_mngproduct_mngproduct_mngproduct_mngITRandDRandDRandDRandDRandDmarketingsalesaccountingsupporttechnicalmanagementmarketingmarketingmarketingsalessalessalessalessalessalessalessalessalessalessalessalessalessalessalessalessalessalessalesaccountingaccountingaccountinghrhrhrhrtechnicaltechnicaltechnicaltechnicaltechnicaltechnicaltechnicaltechnicaltechnicaltechnicaltechnicalsupportsupportsupportsupportsupportsupportsupportsupportsupportsupportsupporttechnicaltechnicaltechnicalmanagementITITITITITproduct_mngproduct_mngproduct_mngproduct_mngITRandDRandDRandDRandDRandDmarketingmarketingsalesaccountingsupporttechnicalmanagementmarketingmarketingmarketingsalessalessalessalessalessalessalessalessalessalessalessalessalessalessalessalessalessalessalesaccountingaccountingaccountinghrhrhrhrtechnicaltechnicaltechnicaltechnicaltechnicaltechnicaltechnicaltechnicaltechnicaltechnicaltechnicalsupportsupportsupportsupportsupportsupportsupportsupportsupportsupportsupporttechnicaltechnicaltechnicalmanagementITITITITITproduct_mngproduct_mngproduct_mngproduct_mngITRandDRandDRandDRandDRandDmarketingsalesaccountingsupporttechnicalmanagementmarketingmarketingmarketingsalessalessalessalessalessalessalessalessalessalessalessalessalessalessalessalessalessalessalesaccountingaccountingaccountinghrhrhrhrtechnicaltechnicaltechnicaltechnicaltechnicaltechnicaltechnicaltechnicaltechnicaltechnicaltechnicalsupportsupportsupportsupportsupportsupportsupportsupportsupportsupportsupporttechnicaltechnicaltechnicalmanagementITITITITITproduct_mngproduct_mngproduct_mngproduct_mngITRandDRandDRandDRandDRandDmarketingsalesaccountingsupporttechnicalmanagementmarketingmarketingmarketingsalessalessalessalessalessalessalessalessalessalessalessalessalessalessalessalessalessalessalesaccountingaccountingaccountinghrhrhrhrtechnicaltechnicaltechnicaltechnicaltechnicaltechnicaltechnicaltechnicaltechnicaltechnicaltechnicalsupportsupportsupportsupportsupportsupportsupportsupportsupportsupportsupporttechnicaltechnicaltechnicalmanagementITITITITITproduct_mngproduct_mngproduct_mngproduct_mngITRandDRandDRandDRandDRandDmarketingsalesaccountingsupporttechnicalmanagementmarketingmarketingmarketingsalessalessalessalessalessalessalessalessalessalessalessalessalessalessalessalessalessalessalesaccountingaccountingaccountinghrhrhrhrtechnicaltechnicaltechnicaltechnicaltechnicaltechnicaltechnicaltechnicaltechnicaltechnicaltechnicalsupportsupportsupportsupportsupportsupportsupportsupportsupportsupportsupporttechnicaltechnicaltechnicalmanagementITITITITITproduct_mngproduct_mngproduct_mngproduct_mngITRandDRandDRandDRandDRandDmarketingsalesaccountingsupporttechnicalmanagementmarketingmarketingmarketingsalessalessalessalessalessalessalessalessalessalessalessalessalessalessalessalessalessalessalesaccountingaccountingaccountinghrhrhrhrtechnicaltechnicaltechnicaltechnicaltechnicaltechnicaltechnicaltechnicaltechnicaltechnicaltechnicalsupportsupportsupportsupportsupportsupportsupportsupportsupportsupportsupporttechnicaltechnicaltechnicalmanagementITITITITITproduct_mngproduct_mngproduct_mngproduct_mngITRandDRandDRandDRandDRandDmarketingsalesaccountingsupporttechnicalmanagementmarketingmarketingmarketingsalessalessalessalessalessalessalessalessalessalessalessalessalessalessalessalessalessalessalesaccountingaccountingaccountinghrhrhrhrtechnicaltechnicaltechnicaltechnicaltechnicaltechnicaltechnicaltechnicaltechnicaltechnicaltechnicalsupportsupportsupportsupportsupportsupportsupportsupportsupportsupportsupporttechnicaltechnicaltechnicalmanagementITITITITITproduct_mngproduct_mngproduct_mngproduct_mngITRandDRandDRandDRandDRandDmarketingsalesaccountingsupporttechnicalmanagementmarketingmarketingmarketingsalessalessalessalessalessalessalessalessalessalessalessalessalessalessalessalessalessalessalesaccountingaccountingaccountinghrhrhrhrtechnicaltechnicaltechnicaltechnicaltechnicaltechnicaltechnicaltechnicaltechnicaltechnicaltechnicalsupportsupportsupportsupportsupportsupportsupportsupportsupportsupportsupporttechnicaltechnicaltechnicalmanagementITITITITITproduct_mngproduct_mngproduct_mngproduct_mngITRandDRandDRandDRandDRandDmarketingsalesaccountingsupporttechnicalmanagementmarketingmarketingmarketingsalessalessalessalessalessalessalessalessalessalessalessalessalessalessalessalessalessalessalesaccountingaccountingaccountinghrhrhrhrtechnicaltechnicaltechnicaltechnicaltechnicaltechnicaltechnicaltechnicaltechnicaltechnicaltechnicalsupportsupportsupportsupportsupportsupportsupportsupportsupportsupportsupporttechnicaltechnicaltechnicalmanagementITITITITITproduct_mngproduct_mngproduct_mngproduct_mngITRandDRandDRandDRandDRandDmarketingsalesaccountingsupporttechnicalmanagementmarketingmarketingmarketingsalessalessalessalessalessalessalessalessalessalessalessalessalessalessalessalessalessalessalesaccountingaccountingaccountinghrhrhrhrtechnicaltechnicaltechnicaltechnicaltechnicaltechnicaltechnicaltechnicaltechnicaltechnicaltechnicalsupportsupportsupportsupportsupportsupportsupportsupportsupportsupportsupporttechnicaltechnicaltechnicalmanagementITITITITITproduct_mngproduct_mngproduct_mngproduct_mngITRandDRandDRandDRandDRandDmarketingsalesaccountingsupporttechnicalmanagementmarketingmarketingmarketingsalessalessalessalessalessalessalessalessalessalessalessalessalessalessalessalessalessalessalesaccountingaccountingaccountinghrhrhrhrtechnicaltechnicaltechnicaltechnicaltechnicaltechnicaltechnicaltechnicaltechnicaltechnicaltechnicalsupportsupportsupportsupportsupportsupportsupportsupportsupportsupportsupporttechnicaltechnicaltechnicalmanagementITITITITITproduct_mngproduct_mngproduct_mngproduct_mngITRandDRandDRandDRandDRandDmarketingsalesaccountingsupporttechnicalmanagementmarketingmarketingmarketingsalessalessalessalessalessalessalessalessalessalessalessalessalessalessalessalessalessalessalesaccountingaccountingaccountinghrhrhrhrtechnicaltechnicaltechnicaltechnicaltechnicaltechnicaltechnicaltechnicaltechnicaltechnicaltechnicalsupportsupportsupportsupportsupportsupportsupportsupportsupportsupportsupporttechnicaltechnicaltechnicalmanagementITITITITITproduct_mngproduct_mngproduct_mngproduct_mngITRandDRandDRandDRandDRandDmarketingsalesaccountingsupporttechnicalmanagementmarketingmarketingmarketingsalessalessalessalessalessalessalessalessalessalessalessalessalessalessalessalessalessalessalesaccountingaccountingaccountinghrhrhrhrtechnicaltechnicaltechnicaltechnicaltechnicaltechnicaltechnicaltechnicaltechnicaltechnicaltechnicalsupportsupportsupportsupportsupportsupportsupportsupportsupportsupportsupporttechnicaltechnicaltechnicalmanagementITITITITITproduct_mngproduct_mngproduct_mngproduct_mngITRandDRandDRandDRandDRandDmarketingmarketingsalesaccountingsupporttechnicalmanagementmarketingmarketingmarketingsalessalessalessalessalessalessalessalessalessalessalessalessalessalessalessalessalessalessalesaccountingaccountingaccountinghrhrhrhrtechnicaltechnicaltechnicaltechnicaltechnicaltechnicaltechnicaltechnicaltechnicaltechnicaltechnicalsupportsupportsupportsupportsupportsupportsupportsupportsupportsupportsupporttechnicaltechnicaltechnicalmanagementITITITITITproduct_mngproduct_mngproduct_mngproduct_mngITmarketingmarketingmarketingmarketingmarketingmarketingmarketingsalesaccountingsupporttechnicalmanagementmarketingmarketingmarketingsalessalessalessalessalessalessalessalessalessalessalessalessalessalessalessalessalessalessalesaccountingaccountingaccountinghrhrhrhrtechnicaltechnicaltechnicaltechnicaltechnicaltechnicaltechnicaltechnicaltechnicaltechnicaltechnicalsupportsupportsupportsupportsupportsupportsupportsupportsupportsupportsupporttechnicaltechnicaltechnicalmanagementITITITITITproduct_mngproduct_mngproduct_mngproduct_mngITRandDRandDRandDRandDRandDRandDmarketingsalesaccountingsupporttechnicalmanagementmarketingmarketingmarketingsalessalessalessalessalessalessalessalessalessalessalessalessalessalessalessalessalessalessalesaccountingaccountingaccountinghrhrhrhrtechnicaltechnicaltechnicaltechnicaltechnicaltechnicaltechnicaltechnicaltechnicaltechnicaltechnicalsupportsupportsupportsupportsupportsupportsupportsupportsupportsupportsupporttechnicaltechnicaltechnicalmanagementITITITITITproduct_mngproduct_mngproduct_mngproduct_mngITmarketingaccountingaccountingITITmanagementmarketingsalesaccountingsupporttechnicalmanagementmarketingmarketingmarketingsalessalessalessalessalessalessalessalessalessalessalessalessalessalessalessalessalessalessalesaccountingaccountingaccountinghrhrhrhrtechnicaltechnicaltechnicaltechnicaltechnicaltechnicaltechnicaltechnicaltechnicaltechnicaltechnicalsupportsupportsupportsupportsupportsupportsupportsupportsupportsupportsupporttechnicaltechnicaltechnicalmanagementITITITITITproduct_mngproduct_mngproduct_mngproduct_mngITRandDRandDRandDRandDRandDRandDmarketingsalesaccountingsupporttechnicalmanagementmarketingmarketingmarketingsalessalessalessalessalessalessalessalessalessalessalessalessalessalessalessalessalessalessalesaccountingaccountingaccountinghrhrhrhrtechnicaltechnicaltechnicaltechnicaltechnicaltechnicaltechnicaltechnicaltechnicaltechnicaltechnicalsupportsupportsupportsupportsupportsupportsupportsupportsupportsupportsupporttechnicaltechnicaltechnicalmanagementITITITITITproduct_mngproduct_mngproduct_mngproduct_mngITRandDRandDRandDRandDRandDmarketingsalesaccountingsupporttechnicalmanagementmarketingmarketingmarketingsalessalessalessalessalessalessalessalessalessalessalessalessalessalessalessalessalessalessalesaccountingaccountingaccountinghrhrhrhrtechnicaltechnicaltechnicaltechnicaltechnicaltechnicaltechnicaltechnicaltechnicaltechnicaltechnicalsupportsupportsupportsupportsupportsupportsupportsupportsupportsupportsupporttechnicaltechnicaltechnicalmanagementITITITITITproduct_mngproduct_mngproduct_mngproduct_mngITmarketingaccountingaccountingITITmanagementmarketingsalesaccountingsupporttechnicalmanagementmarketingmarketingmarketingsalessalessalessalessalessalessalessalessalessalessalessalessalessalessalessalessalessalessalesaccountingaccountingaccountinghrhrhrhrtechnicaltechnicaltechnicaltechnicaltechnicaltechnicaltechnicaltechnicaltechnicaltechnicaltechnicalsupportsupportsupportsupportsupportsupportsupportsupportsupportsupportsupporttechnicaltechnicaltechnicalmanagementITITITITITproduct_mngproduct_mngproduct_mngproduct_mngITmarketingaccountingaccountingITITmanagementsalesaccountingsupporttechnicalmanagementmarketingmarketingmarketingsalessalessalessalessalessalessalessalessalessalessalessalessalessalessalessalessalessalessalesaccountingaccountingaccountinghrhrhrhrtechnicaltechnicaltechnicaltechnicaltechnicaltechnicaltechnicaltechnicaltechnicaltechnicaltechnicalsupportsupportsupportsupportsupportsupportsupportsupportsupportsupportsupporttechnicaltechnicaltechnicalmanagementITITITITITproduct_mngproduct_mngproduct_mngproduct_mngITmarketingaccountingaccountingITITmanagementsalesaccountingsupporttechnicalmanagementmarketingmarketingmarketingsalessalessalessalessalessalessalessalessalessalessalessalessalessalessalessalessalessalessalesaccountingaccountingaccountinghrhrhrhrtechnicaltechnicaltechnicaltechnicaltechnicaltechnicaltechnicaltechnicaltechnicaltechnicaltechnicalsupportsupportsupportsupportsupportsupportsupportsupportsupportsupportsupporttechnicaltechnicaltechnicalmanagementITITITITITproduct_mngproduct_mngproduct_mngproduct_mngITmarketingaccountingaccountingITITmanagementsalesaccountingsupporttechnicalmanagementmarketingmarketingmarketingsalessalessalessalessalessalessalessalessalessalessalessalessalessalessalessalessalessalessalesaccountingaccountingaccountinghrhrhrhrtechnicaltechnicaltechnicaltechnicaltechnicaltechnicaltechnicaltechnicaltechnicaltechnicaltechnicalsupportsupportsupportsupportsupportsupportsupportsupportsupportsupportsupporttechnicaltechnicaltechnicalmanagementITITITITITproduct_mngproduct_mngproduct_mngproduct_mngITRandDRandDRandDRandDRandDmarketingsalesaccountingsupporttechnicalmanagementmarketingmarketingmarketingsalessalessalessalessalessalessalessalessalessalessalessalessalessalessalessalessalessalessalesaccountingaccountingaccountinghrhrhrhrtechnicaltechnicaltechnicaltechnicaltechnicaltechnicaltechnicaltechnicaltechnicaltechnicaltechnicalsupportsupportsupportsupportsupportsupportsupportsupportsupportsupportsupporttechnicaltechnicaltechnicalmanagementITITITITITproduct_mngproduct_mngproduct_mngproduct_mngITRandDRandDRandDRandDRandDmarketingsalesaccountingsupporttechnicalmanagementmarketingmarketingmarketingsalessalessalessalessalessalessalessalessalessalessalessalessalessalessalessalessalessalessalesaccountingaccountingaccountinghrhrhrhrtechnicaltechnicaltechnicaltechnicaltechnicaltechnicaltechnicaltechnicaltechnicaltechnicaltechnicalsupportsupportsupportsupportsupportsupportsupportsupportsupportsupportsupporttechnicaltechnicaltechnicalmanagementITITITITITproduct_mngproduct_mngproduct_mngproduct_mngITRandDRandDRandDRandDRandDmarketingsalesaccountingsupporttechnicalmanagementmarketingmarketingmarketingsalessalessalessalessalessalessalessalessalessalessalessalessalessalessalessalessalessalessalesaccountingaccountingaccountinghrhrhrhrtechnicaltechnicaltechnicaltechnicaltechnicaltechnicaltechnicaltechnicaltechnicaltechnicaltechnicalsupportsupportsupportsupportsupportsupportsupportsupportsupportsupportsupporttechnicaltechnicaltechnicalmanagementITITITITITproduct_mngproduct_mngproduct_mngproduct_mngITRandDRandDRandDRandDRandDmarketingsalesaccountingsupporttechnicalmanagementmarketingmarketingmarketingsalessalessalessalessalessalessalessalessalessalessalessalessalessalessalessalessalessalessalesaccountingaccountingaccountinghrhrhrhrtechnicaltechnicaltechnicaltechnicaltechnicaltechnicaltechnicaltechnicaltechnicaltechnicaltechnicalsupportsupportsupportsupportsupportsupportsupportsupportsupportsupportsupporttechnicaltechnicaltechnicalmanagementITITITITITproduct_mngproduct_mngproduct_mngproduct_mngITRandDRandDRandDRandDRandDmarketingsalesaccountingsupporttechnicalmanagementmarketingmarketingmarketingsalessalessalessalessalessalessalessalessalessalessalessalessalessalessalessalessalessalessalesaccountingaccountingaccountinghrhrhrhrtechnicaltechnicaltechnicaltechnicaltechnicaltechnicaltechnicaltechnicaltechnicaltechnicaltechnicalsupportsupportsupportsupportsupportsupportsupportsupportsupportsupportsupporttechnicaltechnicaltechnicalmanagementITITITITITproduct_mngproduct_mngproduct_mngproduct_mngITRandDRandDRandDRandDRandDmarketingsalesaccountingsupporttechnicalmanagementmarketingmarketingmarketingsalessalessalessalessalessalessalessalessalessalessalessalessalessalessalessalessalessalessalesaccountingaccountingaccountinghrhrhrhrtechnicaltechnicaltechnicaltechnicaltechnicaltechnicaltechnicaltechnicaltechnicaltechnicaltechnicalsupportsupportsupportsupportsupportsupportsupportsupportsupportsupportsupporttechnicaltechnicaltechnicalmanagementITITITITITproduct_mngproduct_mngproduct_mngproduct_mngITRandDRandDRandDRandDRandDmarketingsalesaccountingsupporttechnicalmanagementmarketingmarketingmarketingsalessalessalessalessalessalessalessalessalessalessalessalessalessalessalessalessalessalessalesaccountingaccountingaccountinghrhrhrhrtechnicaltechnicaltechnicaltechnicaltechnicaltechnicaltechnicaltechnicaltechnicaltechnicaltechnicalsupportsupportsupportsupportsupportsupportsupportsupportsupportsupportsupporttechnicaltechnicaltechnicalmanagementITITITITITproduct_mngproduct_mngproduct_mngproduct_mngITRandDRandDRandDRandDRandDmarketingsalesaccountingsupporttechnicalmanagementmarketingmarketingmarketingsalessalessalessalessalessalessalessalessalessalessalessalessalessalessalessalessalessalessalesaccountingaccountingaccountinghrhrhrhrtechnicaltechnicaltechnicaltechnicaltechnicaltechnicaltechnicaltechnicaltechnicaltechnicaltechnicalsupportsupportsupportsupportsupportsupportsupportsupportsupportsupportsupporttechnicaltechnicaltechnicalmanagementITITITITITproduct_mngproduct_mngproduct_mngproduct_mngITRandDRandDRandDRandDRandDmarketingmarketingsalesaccountingsupporttechnicalmanagementmarketingmarketingmarketingsalessalessalessalessalessalessalessalessalessalessalessalessalessalessalessalessalessalessalesaccountingaccountingaccountinghrhrhrhrtechnicaltechnicaltechnicaltechnicaltechnicaltechnicaltechnicaltechnicaltechnicaltechnicaltechnicalsupportsupportsupportsupportsupportsupportsupportsupportsupportsupportsupporttechnicaltechnicaltechnicalmanagementITITITITITproduct_mngproduct_mngproduct_mngproduct_mngITRandDRandDRandDRandDRandDRandDmarketingsalesaccountingsupporttechnicalmanagementmarketingmarketingmarketingsalessalessalessalessalessalessalessalessalessalessalessalessalessalessalessalessalessalessalesaccountingaccountingaccountinghrhrhrhrtechnicaltechnicaltechnicaltechnicaltechnicaltechnicaltechnicaltechnicaltechnicaltechnicaltechnicalsupportsupportsupportsupportsupportsupportsupportsupportsupportsupportsupporttechnicaltechnicaltechnicalmanagementITITITITITproduct_mngproduct_mngproduct_mngproduct_mngITRandDRandDRandDRandDRandDRandDmarketingsalesaccountingsupporttechnicalmanagementmarketingmarketingmarketingsalessalessalessalessalessalessalessalessalessalessalessalessalessalessalessalessalessalessalesaccountingaccountingaccountinghrhrhrhrtechnicaltechnicaltechnicaltechnicaltechnicaltechnicaltechnicaltechnicaltechnicaltechnicaltechnicalsupportsupportsupportsupportsupportsupportsupportsupportsupportsupportsupporttechnicaltechnicaltechnicalmanagementITITITITITproduct_mngproduct_mngproduct_mngproduct_mngITRandDRandDRandDRandDRandDRandDITITITITproduct_mngproduct_mngproduct_mngproduct_mngITRandDRandDRandDRandDRandDRandDmarketingsalesaccountingsupporttechnicalmanagementmarketingmarketingmarketingsalessalessalessalessalessalessalessalessalessalessalessalessalessalessalessalessalessalessalesaccountingaccountingaccountinghrhrhrhrtechnicaltechnicaltechnicaltechnicaltechnicaltechnicaltechnicaltechnicaltechnicaltechnicaltechnicalsupportsupportsupportsupportsupportsupportsupportsupportsupportsupportsupporttechnicaltechnicaltechnicalmanagementITITITITITproduct_mngproduct_mngproduct_mngproduct_mngITmanagementmanagementmanagementmanagementmanagementmanagementITITITITproduct_mngproduct_mngproduct_mngproduct_mngITmanagementmanagementmanagementmanagementmanagementmanagementmarketingsalesaccountingsupporttechnicalmanagementmarketingmarketingmarketingsalessalessalessalessalessalessalessalessalessalessalessalessalessalessalessalessalessalessalesaccountingaccountingaccountinghrhrhrhrtechnicaltechnicaltechnicaltechnicaltechnicaltechnicaltechnicaltechnicaltechnicaltechnicaltechnicalsupportsupportsupportsupportsupportsupportsupportsupportsupportsupportsupporttechnicaltechnicaltechnicalmanagementITITITITITproduct_mngproduct_mngproduct_mngproduct_mngITITITITITproduct_mngproduct_mngproduct_mngproduct_mngITRandDRandDRandDRandDRandDRandDmarketingsalesaccountingsupporttechnicalmanagementmarketingmarketingmarketingsalessalessalessalessalessalessalessalessalessalessalessalessalessalessalessalessalessalessalesaccountingaccountingaccountinghrhrhrhrtechnicaltechnicaltechnicaltechnicaltechnicaltechnicaltechnicaltechnicaltechnicaltechnicaltechnicalsupportsupportsupportsupportsupportsupportsupportsupportsupportsupportsupporttechnicaltechnicaltechnicalmanagementITITITITITproduct_mngproduct_mngproduct_mngproduct_mngITmanagementmanagementmanagementmanagementmanagementmanagementITITproduct_mngproduct_mngproduct_mngproduct_mngITmanagementmanagementmanagementmanagementmanagementmanagementmarketingsalesaccountingsupporttechnicalmanagementmarketingmarketingmarketingsalessalessalessalessalessalessalessalessalessalessalessalessalessalessalessalessalessalessalesaccountingaccountingaccountinghrhrhrhrtechnicaltechnicaltechnicaltechnicaltechnicaltechnicaltechnicaltechnicaltechnicaltechnicaltechnicalsupportsupportsupportsupportsupportsupportsupportsupportsupportsupportsupporttechnicaltechnicaltechnicalmanagementITITITITITproduct_mngproduct_mngproduct_mngproduct_mngITmanagementmanagementmanagementmanagementmanagementmanagementsalessalessalessalessalessalessalessalessalessalessalessalessalessalessalessalessalessalessalessalessalessalessalessalessalessalessalessalessalessalessalessalessalessalesITproduct_mngproduct_mngproduct_mngproduct_mngITmanagementmanagementmanagementmanagementmanagementmanagementmarketingsalesaccountingsupporttechnicalmanagementmarketingmarketingmarketingsalessalessalessalessalessalessalessalesITproduct_mngproduct_mngproduct_mngproduct_mngITmanagementmanagementmanagementmanagementmanagementmanagementmarketingsalesaccountingsupporttechnicalmanagementmarketingmarketingmarketingsalessalessalessalessalessalessalesITproduct_mngproduct_mngproduct_mngproduct_mngITmanagementmanagementmanagementmanagementmanagementmanagementmarketingsalesaccountingsupporttechnicalmanagementmarketingmarketingmarketingsalessalessalessalessalessalessalessalesITproduct_mngproduct_mngproduct_mngproduct_mngITRandDRandDRandDRandDRandDRandDmarketingsalesaccountingsupporttechnicalmanagementmarketingmarketingmarketingsalessalessalessalessalessalessalessalestechnicalsupportsupportsupportsupportsupportsupportsupportsupportsupportsupportsupporttechnicaltechnicaltechnicalmanagementITITITITITproduct_mngproduct_mngproduct_mngproduct_mngITmanagementmanagementmanagementmanagementmanagementmanagementsalessalessalessalessalessalessalessalessalessalessalessalessalessalessalessalessalessalessalessalessalessalessalessalessalessalessalessalessalessalessalessalessalessalesITproduct_mngproduct_mngproduct_mngproduct_mngITmanagementmanagementmanagementmanagementmanagementmanagementmarketingsalesaccountingsupporttechnicalmanagementmarketingmarketingmarketingsalessalessalessalessalessalessalessalesITproduct_mngproduct_mngproduct_mngproduct_mngITmanagementmanagementmanagementmanagementmanagementmanagementmarketingsalesaccountingsupporttechnicalmanagementmarketingmarketingmarketingsalessalessalessalessalessalessalesITproduct_mngproduct_mngproduct_mngproduct_mngITmanagementmanagementmanagementmanagementmanagementmanagementmarketingsalesaccountingsupporttechnicalmanagementmarketingmarketingmarketingsalessalessalessalessalessalessalessalesITproduct_mngproduct_mngproduct_mngproduct_mngITRandDRandDRandDRandDRandDRandDmarketingsalesaccountingsupporttechnicalmanagementmarketingmarketingmarketingsalessalessalessalessalessalessalessalestechnicalsupportsupportsupportsupportsupportsupportsupportsupportsupportsupportsupporttechnicaltechnicaltechnicalmanagementITITITITITproduct_mngproduct_mngproduct_mngproduct_mngITmanagementmanagementmanagementmanagementmanagementmanagementsalessalessalessalessalessalessalessalessalessalessalessalessalessalessalessalessalessalessalessalessalessalessalessalessalessalessalessalessalessalessalessalessalessalesITproduct_mngproduct_mngproduct_mngproduct_mngITmanagementmanagementmanagementmanagementmanagementmanagementmarketingsalesaccountingsupporttechnicalmanagementmarketingmarketingmarketingsalessalessalessalessalessalessalessalesITproduct_mngproduct_mngproduct_mngproduct_mngITmanagementmanagementmanagementmanagementmanagementmanagementmarketingsalesaccountingsupporttechnicalmanagementmarketingmarketingmarketingsalessalessalessalessalessalessalesITproduct_mngproduct_mngproduct_mngproduct_mngITmanagementmanagementmanagementmanagementmanagementmanagementmarketingsalesaccountingsupporttechnicalmanagementmarketingmarketingmarketingsalessalessalessalessalessalessalessalesITproduct_mngproduct_mngproduct_mngproduct_mngITmanagementmanagementmanagementmanagementmanagementmanagementmarketingsalesaccountingsupporttechnicalmanagementmarketingmarketingmarketingsalessalessalessalessalessalessalessalestechnicalsupportsupportsupportsupportsupportsupportsupportsupportsupportsupportsupporttechnicaltechnicaltechnicalmanagementITITITITITproduct_mngproduct_mngproduct_mngproduct_mngITmanagementmanagementmanagementmanagementmanagementmanagementsalessalessalessalessalessalessalessalessalessalessalessalessalessalessalessalessalessalessalessalessalessalessalessalessalessalessalessalessalessalessalessalessalessalesITproduct_mngproduct_mngproduct_mngproduct_mngITmanagementmanagementmanagementmanagementmanagementmanagementmarketingsalesaccountingsupporttechnicalmanagementmarketingmarketingmarketingsalessalessalessalessalessalessalessalesITproduct_mngproduct_mngproduct_mngproduct_mngITITITITITITITmarketingaccountingaccountingITITmanagementmarketingmarketingmarketingsalessalessalessalessalessalessalesITproduct_mngproduct_mngproduct_mngproduct_mngITITmanagementmanagementmanagementmanagementmanagementmarketingITtechnicaltechnicaltechnicaltechnicaltechnicaltechnicalsupportsupportsupportsupportsupportsupportsupportsupportsupportsupportsupporttechnicaltechnicaltechnicalmanagementITITITITITproduct_mngproduct_mngproduct_mngproduct_mngITRandDRandDRandDRandDRandDmarketingsalesaccountingsupporttechnicalmanagementmarketingmarketingmarketingsalessalessalessalessalessalessalessalessalessalessalessalessalessalessalessalessalessalessalesaccountingaccountingaccountinghrhrhrhrtechnicaltechnicaltechnicaltechnicaltechnicaltechnicaltechnicaltechnicaltechnicaltechnicaltechnicalsupportsupportsupportsupportsupportsupportsupportsupportsupportsupportsupporttechnicaltechnicaltechnicalmanagementITITITITITproduct_mngproduct_mngproduct_mngproduct_mngITRandDRandDRandDRandDRandDmarketingsalesaccountingsupporttechnicalmanagementmarketingmarketingmarketingsalessalessalessalessalessalessalessalessalessalessalessalessalessalessalessalessalessalessalesaccountingaccountingaccountinghrhrhrhrtechnicaltechnicaltechnicaltechnicaltechnicaltechnicaltechnicaltechnicaltechnicaltechnicaltechnicalsupportsupportsupportsupportsupportsupportsupportsupportsupportsupportsupporttechnicaltechnicaltechnicalmanagementITITITITITproduct_mngproduct_mngproduct_mngproduct_mngITRandDRandDRandDRandDRandDmarketingmarketingsalesaccountingsupporttechnicalmanagementmarketingmarketingmarketingsalessalessalessalessalessalessalessalessalessalessalessalessalessalessalessalessalessalessalesaccountingaccountingaccountinghrhrhrhrtechnicaltechnicaltechnicaltechnicaltechnicaltechnicaltechnicaltechnicaltechnicaltechnicaltechnicalsupportsupportsupportsupportsupportsupportsupportsupportsupportsupportsupporttechnicaltechnicaltechnicalmanagementITITITITITproduct_mngproduct_mngproduct_mngproduct_mngITRandDRandDRandDRandDRandDRandDmarketingsalesaccountingsupporttechnicalmanagementmarketingmarketingmarketingsalessalessalessalessalessalessalessalessalessalessalessalessalessalessalessalessalessalessalesaccountingaccountingaccountinghrhrhrhrtechnicaltechnicaltechnicaltechnicaltechnicaltechnicaltechnicaltechnicaltechnicaltechnicaltechnicalsupportsupportsupportsupportsupportsupportsupportsupportsupportsupportsupporttechnicaltechnicaltechnicalmanagementITITITITITproduct_mngproduct_mngproduct_mngproduct_mngITRandDRandDRandDRandDRandDRandDmarketingsalesaccountingsupporttechnicalmanagementmarketingmarketingmarketingsalessalessalessalessalessalessalessalessalessalessalessalessalessalessalessalessalessalessalesaccountingaccountingaccountinghrhrhrhrtechnicaltechnicaltechnicaltechnicaltechnicaltechnicaltechnicaltechnicaltechnicaltechnicaltechnicalsupportsupportsupportsupportsupportsupportsupportsupportsupportsupportsupporttechnicaltechnicaltechnicalmanagementITITITITITproduct_mngproduct_mngproduct_mngproduct_mngITRandDRandDRandDRandDRandDRandDITITITITproduct_mngproduct_mngproduct_mngproduct_mngITRandDRandDRandDRandDRandDRandDmarketingsalesaccountingsupporttechnicalmanagementmarketingmarketingmarketingsalessalessalessalessalessalessalessalessalessalessalessalessalessalessalessalessalessalessalesaccountingaccountingaccountinghrhrhrhrtechnicaltechnicaltechnicaltechnicaltechnicaltechnicaltechnicaltechnicaltechnicaltechnicaltechnicalsupportsupportsupportsupportsupportsupportsupportsupportsupportsupportsupporttechnicaltechnicaltechnicalmanagementITITITITITproduct_mngproduct_mngproduct_mngproduct_mngITmanagementmanagementmanagementmanagementmanagementmanagementITITITITproduct_mngproduct_mngproduct_mngproduct_mngITmanagementmanagementmanagementmanagementmanagementmanagementmarketingsalesaccountingsupporttechnicalmanagementmarketingmarketingmarketingsalessalessalessalessalessalessalessalessalessalessalessalessalessalessalessalessalessalessalesaccountingaccountingaccountinghrhrhrhrtechnicaltechnicaltechnicaltechnicaltechnicaltechnicaltechnicaltechnicaltechnicaltechnicaltechnicalsupportsupportsupportsupportsupportsupportsupportsupportsupportsupportsupporttechnicaltechnicaltechnicalmanagementITITITITITproduct_mngproduct_mngproduct_mngproduct_mngITITITITITproduct_mngproduct_mngproduct_mngproduct_mngITRandDRandDRandDRandDRandDRandDmarketingsalesaccountingsupporttechnicalmanagementmarketingmarketingmarketingsalessalessalessalessalessalessalessalessalessalessalessalessalessalessalessalessalessalessalesaccountingaccountingaccountinghrhrhrhrtechnicaltechnicaltechnicaltechnicaltechnicaltechnicaltechnicaltechnicaltechnicaltechnicaltechnicalsupportsupportsupportsupportsupportsupportsupportsupportsupportsupportsupporttechnicaltechnicaltechnicalmanagementITITITITITproduct_mngproduct_mngproduct_mngproduct_mngITmanagementmanagementmanagementmanagementmanagementmanagementITITproduct_mngproduct_mngproduct_mngproduct_mngITmanagementmanagementmanagementmanagementmanagementmanagementmarketingsalesaccountingsupporttechnicalmanagementmarketingmarketingmarketingsalessalessalessalessalessalessalessalessalessalessalessalessalessalessalessalessalessalessalesaccountingaccountingaccountinghrhrhrhrtechnicaltechnicaltechnicaltechnicaltechnicaltechnicaltechnicaltechnicaltechnicaltechnicaltechnicalsupportsupportsupportsupportsupportsupportsupportsupportsupportsupportsupporttechnicaltechnicaltechnicalmanagementITITITITITproduct_mngproduct_mngproduct_mngproduct_mngITmanagementmanagementmanagementmanagementmanagementmanagementsalessalessalessalessalessalessalessalessalessalessalessalessalessalessalessalessalessalessalessalessalessalessalessalessalessalessalessalessalessalessalessalessalessalesITproduct_mngproduct_mngproduct_mngproduct_mngITmanagementmanagementmanagementmanagementmanagementmanagementmarketingsalesaccountingsupporttechnicalmanagementmarketingmarketingmarketingsalessalessalessalessalessalessalessalesITproduct_mngproduct_mngproduct_mngproduct_mngITmanagementmanagementmanagementmanagementmanagementmanagementmarketingsalesaccountingsupporttechnicalmanagementmarketingmarketingmarketingsalessalessalessalessalessalessalesITproduct_mngproduct_mngproduct_mngproduct_mngITmanagementmanagementmanagementmanagementmanagementmanagementmarketingsalesaccountingsupporttechnicalmanagementmarketingmarketingmarketingsalessalessalessalessalessalessalessalesITproduct_mngproduct_mngproduct_mngproduct_mngITRandDRandDRandDRandDRandDRandDmarketingsalesaccountingsupporttechnicalmanagementmarketingmarketingmarketingsalessalessalessalessalessalessalessalestechnicalsupportsupportsupportsupportsupportsupportsupportsupportsupportsupportsupporttechnicaltechnicaltechnicalmanagementITITITITITproduct_mngproduct_mngproduct_mngproduct_mngITmanagementmanagementmanagementmanagementmanagementmanagementsalessalessalessalessalessalessalessalessalessalessalessalessalessalessalessalessalessalessalessalessalessalessalessalessalessalessalessalessalessalessalessalessalessalesITproduct_mngproduct_mngproduct_mngproduct_mngITmanagementmanagementmanagementmanagementmanagementmanagementmarketingsalesaccountingsupporttechnicalmanagementmarketingmarketingmarketingsalessalessalessalessalessalessalessalesITproduct_mngproduct_mngproduct_mngproduct_mngITmanagementmanagementmanagementmanagementmanagementmanagementmarketingsalesaccountingsupporttechnicalmanagementmarketingmarketingmarketingsalessalessalessalessalessalessalesITproduct_mngproduct_mngproduct_mngproduct_mngITmanagementmanagementmanagementmanagementmanagementmanagementmarketingsalesaccountingsupporttechnicalmanagementmarketingmarketingmarketingsalessalessalessalessalessalessalessalesITproduct_mngproduct_mngproduct_mngproduct_mngITRandDRandDRandDRandDRandDRandDmarketingsalesaccountingsupporttechnicalmanagementmarketingmarketingmarketingsalessalessalessalessalessalessalessalestechnicalsupportsupportsupportsupportsupportsupportsupportsupportsupportsupportsupporttechnicaltechnicaltechnicalmanagementITITITITITproduct_mngproduct_mngproduct_mngproduct_mngITmanagementmanagementmanagementmanagementmanagementmanagementsalessalessalessalessalessalessalessalessalessalessalessalessalessalessalessalessalessalessalessalessalessalessalessalessalessalessalessalessalessalessalessalessalessalesITproduct_mngproduct_mngproduct_mngproduct_mngITmanagementmanagementmanagementmanagementmanagementmanagementmarketingsalesaccountingsupporttechnicalmanagementmarketingmarketingmarketingsalessalessalessalessalessalessalessalesITproduct_mngproduct_mngproduct_mngproduct_mngITmanagementmanagementmanagementmanagementmanagementmanagementmarketingsalesaccountingsupporttechnicalmanagementmarketingmarketingmarketingsalessalessalessalessalessalessalesITproduct_mngproduct_mngproduct_mngproduct_mngITmanagementmanagementmanagementmanagementmanagementmanagementmarketingsalesaccountingsupporttechnicalmanagementmarketingmarketingmarketingsalessalessalessalessalessalessalessalesITproduct_mngproduct_mngproduct_mngproduct_mngITmanagementmanagementmanagementmanagementmanagementmanagementmarketingsalesaccountingsupporttechnicalmanagementmarketingmarketingmarketingsalessalessalessalessalessalessalessalestechnicalsupportsupportsupportsupportsupportsupportsupportsupportsupportsupportsupporttechnicaltechnicaltechnicalmanagementITITITITITproduct_mngproduct_mngproduct_mngproduct_mngITmanagementmanagementmanagementmanagementmanagementmanagementsalessalessalessalessalessalessalessalessalessalessalessalessalessalessalessalessalessalessalessalessalessalessalessalessalessalessalessalessalessalessalessalessalessalesITproduct_mngproduct_mngproduct_mngproduct_mngITmanagementmanagementmanagementmanagementmanagementmanagementmarketingsalesaccountingsupporttechnicalmanagementmarketingmarketingmarketingsalessalessalessalessalessalessalessalesITproduct_mngproduct_mngproduct_mngproduct_mngITITITITITITITmarketingaccountingaccountingITITmanagementmarketingmarketingmarketingsalessalessalessalessalessalessalesITproduct_mngproduct_mngproduct_mngproduct_mngITITmanagementmanagementmanagementmanagementmanagementmarketingIT' to numeric",
      "\nThe above exception was the direct cause of the following exception:\n",
      "\u001b[0;31mTypeError\u001b[0m                                 Traceback (most recent call last)",
      "Cell \u001b[0;32mIn[5], line 1\u001b[0m\n\u001b[0;32m----> 1\u001b[0m \u001b[43mdf\u001b[49m\u001b[38;5;241;43m.\u001b[39;49m\u001b[43mgroupby\u001b[49m\u001b[43m(\u001b[49m\u001b[38;5;124;43m'\u001b[39;49m\u001b[38;5;124;43mleft\u001b[39;49m\u001b[38;5;124;43m'\u001b[39;49m\u001b[43m)\u001b[49m\u001b[38;5;241;43m.\u001b[39;49m\u001b[43mmean\u001b[49m\u001b[43m(\u001b[49m\u001b[43m)\u001b[49m\n",
      "File \u001b[0;32m~/.cache/pypoetry/virtualenvs/data-science-work-mqn9WFvk-py3.10/lib/python3.10/site-packages/pandas/core/groupby/groupby.py:2452\u001b[0m, in \u001b[0;36mGroupBy.mean\u001b[0;34m(self, numeric_only, engine, engine_kwargs)\u001b[0m\n\u001b[1;32m   2445\u001b[0m     \u001b[38;5;28;01mreturn\u001b[39;00m \u001b[38;5;28mself\u001b[39m\u001b[38;5;241m.\u001b[39m_numba_agg_general(\n\u001b[1;32m   2446\u001b[0m         grouped_mean,\n\u001b[1;32m   2447\u001b[0m         executor\u001b[38;5;241m.\u001b[39mfloat_dtype_mapping,\n\u001b[1;32m   2448\u001b[0m         engine_kwargs,\n\u001b[1;32m   2449\u001b[0m         min_periods\u001b[38;5;241m=\u001b[39m\u001b[38;5;241m0\u001b[39m,\n\u001b[1;32m   2450\u001b[0m     )\n\u001b[1;32m   2451\u001b[0m \u001b[38;5;28;01melse\u001b[39;00m:\n\u001b[0;32m-> 2452\u001b[0m     result \u001b[38;5;241m=\u001b[39m \u001b[38;5;28;43mself\u001b[39;49m\u001b[38;5;241;43m.\u001b[39;49m\u001b[43m_cython_agg_general\u001b[49m\u001b[43m(\u001b[49m\n\u001b[1;32m   2453\u001b[0m \u001b[43m        \u001b[49m\u001b[38;5;124;43m\"\u001b[39;49m\u001b[38;5;124;43mmean\u001b[39;49m\u001b[38;5;124;43m\"\u001b[39;49m\u001b[43m,\u001b[49m\n\u001b[1;32m   2454\u001b[0m \u001b[43m        \u001b[49m\u001b[43malt\u001b[49m\u001b[38;5;241;43m=\u001b[39;49m\u001b[38;5;28;43;01mlambda\u001b[39;49;00m\u001b[43m \u001b[49m\u001b[43mx\u001b[49m\u001b[43m:\u001b[49m\u001b[43m \u001b[49m\u001b[43mSeries\u001b[49m\u001b[43m(\u001b[49m\u001b[43mx\u001b[49m\u001b[43m,\u001b[49m\u001b[43m \u001b[49m\u001b[43mcopy\u001b[49m\u001b[38;5;241;43m=\u001b[39;49m\u001b[38;5;28;43;01mFalse\u001b[39;49;00m\u001b[43m)\u001b[49m\u001b[38;5;241;43m.\u001b[39;49m\u001b[43mmean\u001b[49m\u001b[43m(\u001b[49m\u001b[43mnumeric_only\u001b[49m\u001b[38;5;241;43m=\u001b[39;49m\u001b[43mnumeric_only\u001b[49m\u001b[43m)\u001b[49m\u001b[43m,\u001b[49m\n\u001b[1;32m   2455\u001b[0m \u001b[43m        \u001b[49m\u001b[43mnumeric_only\u001b[49m\u001b[38;5;241;43m=\u001b[39;49m\u001b[43mnumeric_only\u001b[49m\u001b[43m,\u001b[49m\n\u001b[1;32m   2456\u001b[0m \u001b[43m    \u001b[49m\u001b[43m)\u001b[49m\n\u001b[1;32m   2457\u001b[0m     \u001b[38;5;28;01mreturn\u001b[39;00m result\u001b[38;5;241m.\u001b[39m__finalize__(\u001b[38;5;28mself\u001b[39m\u001b[38;5;241m.\u001b[39mobj, method\u001b[38;5;241m=\u001b[39m\u001b[38;5;124m\"\u001b[39m\u001b[38;5;124mgroupby\u001b[39m\u001b[38;5;124m\"\u001b[39m)\n",
      "File \u001b[0;32m~/.cache/pypoetry/virtualenvs/data-science-work-mqn9WFvk-py3.10/lib/python3.10/site-packages/pandas/core/groupby/groupby.py:1998\u001b[0m, in \u001b[0;36mGroupBy._cython_agg_general\u001b[0;34m(self, how, alt, numeric_only, min_count, **kwargs)\u001b[0m\n\u001b[1;32m   1995\u001b[0m     result \u001b[38;5;241m=\u001b[39m \u001b[38;5;28mself\u001b[39m\u001b[38;5;241m.\u001b[39m_agg_py_fallback(how, values, ndim\u001b[38;5;241m=\u001b[39mdata\u001b[38;5;241m.\u001b[39mndim, alt\u001b[38;5;241m=\u001b[39malt)\n\u001b[1;32m   1996\u001b[0m     \u001b[38;5;28;01mreturn\u001b[39;00m result\n\u001b[0;32m-> 1998\u001b[0m new_mgr \u001b[38;5;241m=\u001b[39m \u001b[43mdata\u001b[49m\u001b[38;5;241;43m.\u001b[39;49m\u001b[43mgrouped_reduce\u001b[49m\u001b[43m(\u001b[49m\u001b[43marray_func\u001b[49m\u001b[43m)\u001b[49m\n\u001b[1;32m   1999\u001b[0m res \u001b[38;5;241m=\u001b[39m \u001b[38;5;28mself\u001b[39m\u001b[38;5;241m.\u001b[39m_wrap_agged_manager(new_mgr)\n\u001b[1;32m   2000\u001b[0m \u001b[38;5;28;01mif\u001b[39;00m how \u001b[38;5;129;01min\u001b[39;00m [\u001b[38;5;124m\"\u001b[39m\u001b[38;5;124midxmin\u001b[39m\u001b[38;5;124m\"\u001b[39m, \u001b[38;5;124m\"\u001b[39m\u001b[38;5;124midxmax\u001b[39m\u001b[38;5;124m\"\u001b[39m]:\n",
      "File \u001b[0;32m~/.cache/pypoetry/virtualenvs/data-science-work-mqn9WFvk-py3.10/lib/python3.10/site-packages/pandas/core/internals/managers.py:1469\u001b[0m, in \u001b[0;36mBlockManager.grouped_reduce\u001b[0;34m(self, func)\u001b[0m\n\u001b[1;32m   1465\u001b[0m \u001b[38;5;28;01mif\u001b[39;00m blk\u001b[38;5;241m.\u001b[39mis_object:\n\u001b[1;32m   1466\u001b[0m     \u001b[38;5;66;03m# split on object-dtype blocks bc some columns may raise\u001b[39;00m\n\u001b[1;32m   1467\u001b[0m     \u001b[38;5;66;03m#  while others do not.\u001b[39;00m\n\u001b[1;32m   1468\u001b[0m     \u001b[38;5;28;01mfor\u001b[39;00m sb \u001b[38;5;129;01min\u001b[39;00m blk\u001b[38;5;241m.\u001b[39m_split():\n\u001b[0;32m-> 1469\u001b[0m         applied \u001b[38;5;241m=\u001b[39m \u001b[43msb\u001b[49m\u001b[38;5;241;43m.\u001b[39;49m\u001b[43mapply\u001b[49m\u001b[43m(\u001b[49m\u001b[43mfunc\u001b[49m\u001b[43m)\u001b[49m\n\u001b[1;32m   1470\u001b[0m         result_blocks \u001b[38;5;241m=\u001b[39m extend_blocks(applied, result_blocks)\n\u001b[1;32m   1471\u001b[0m \u001b[38;5;28;01melse\u001b[39;00m:\n",
      "File \u001b[0;32m~/.cache/pypoetry/virtualenvs/data-science-work-mqn9WFvk-py3.10/lib/python3.10/site-packages/pandas/core/internals/blocks.py:393\u001b[0m, in \u001b[0;36mBlock.apply\u001b[0;34m(self, func, **kwargs)\u001b[0m\n\u001b[1;32m    387\u001b[0m \u001b[38;5;129m@final\u001b[39m\n\u001b[1;32m    388\u001b[0m \u001b[38;5;28;01mdef\u001b[39;00m \u001b[38;5;21mapply\u001b[39m(\u001b[38;5;28mself\u001b[39m, func, \u001b[38;5;241m*\u001b[39m\u001b[38;5;241m*\u001b[39mkwargs) \u001b[38;5;241m-\u001b[39m\u001b[38;5;241m>\u001b[39m \u001b[38;5;28mlist\u001b[39m[Block]:\n\u001b[1;32m    389\u001b[0m \u001b[38;5;250m    \u001b[39m\u001b[38;5;124;03m\"\"\"\u001b[39;00m\n\u001b[1;32m    390\u001b[0m \u001b[38;5;124;03m    apply the function to my values; return a block if we are not\u001b[39;00m\n\u001b[1;32m    391\u001b[0m \u001b[38;5;124;03m    one\u001b[39;00m\n\u001b[1;32m    392\u001b[0m \u001b[38;5;124;03m    \"\"\"\u001b[39;00m\n\u001b[0;32m--> 393\u001b[0m     result \u001b[38;5;241m=\u001b[39m \u001b[43mfunc\u001b[49m\u001b[43m(\u001b[49m\u001b[38;5;28;43mself\u001b[39;49m\u001b[38;5;241;43m.\u001b[39;49m\u001b[43mvalues\u001b[49m\u001b[43m,\u001b[49m\u001b[43m \u001b[49m\u001b[38;5;241;43m*\u001b[39;49m\u001b[38;5;241;43m*\u001b[39;49m\u001b[43mkwargs\u001b[49m\u001b[43m)\u001b[49m\n\u001b[1;32m    395\u001b[0m     result \u001b[38;5;241m=\u001b[39m maybe_coerce_values(result)\n\u001b[1;32m    396\u001b[0m     \u001b[38;5;28;01mreturn\u001b[39;00m \u001b[38;5;28mself\u001b[39m\u001b[38;5;241m.\u001b[39m_split_op_result(result)\n",
      "File \u001b[0;32m~/.cache/pypoetry/virtualenvs/data-science-work-mqn9WFvk-py3.10/lib/python3.10/site-packages/pandas/core/groupby/groupby.py:1995\u001b[0m, in \u001b[0;36mGroupBy._cython_agg_general.<locals>.array_func\u001b[0;34m(values)\u001b[0m\n\u001b[1;32m   1992\u001b[0m     \u001b[38;5;28;01mreturn\u001b[39;00m result\n\u001b[1;32m   1994\u001b[0m \u001b[38;5;28;01massert\u001b[39;00m alt \u001b[38;5;129;01mis\u001b[39;00m \u001b[38;5;129;01mnot\u001b[39;00m \u001b[38;5;28;01mNone\u001b[39;00m\n\u001b[0;32m-> 1995\u001b[0m result \u001b[38;5;241m=\u001b[39m \u001b[38;5;28;43mself\u001b[39;49m\u001b[38;5;241;43m.\u001b[39;49m\u001b[43m_agg_py_fallback\u001b[49m\u001b[43m(\u001b[49m\u001b[43mhow\u001b[49m\u001b[43m,\u001b[49m\u001b[43m \u001b[49m\u001b[43mvalues\u001b[49m\u001b[43m,\u001b[49m\u001b[43m \u001b[49m\u001b[43mndim\u001b[49m\u001b[38;5;241;43m=\u001b[39;49m\u001b[43mdata\u001b[49m\u001b[38;5;241;43m.\u001b[39;49m\u001b[43mndim\u001b[49m\u001b[43m,\u001b[49m\u001b[43m \u001b[49m\u001b[43malt\u001b[49m\u001b[38;5;241;43m=\u001b[39;49m\u001b[43malt\u001b[49m\u001b[43m)\u001b[49m\n\u001b[1;32m   1996\u001b[0m \u001b[38;5;28;01mreturn\u001b[39;00m result\n",
      "File \u001b[0;32m~/.cache/pypoetry/virtualenvs/data-science-work-mqn9WFvk-py3.10/lib/python3.10/site-packages/pandas/core/groupby/groupby.py:1946\u001b[0m, in \u001b[0;36mGroupBy._agg_py_fallback\u001b[0;34m(self, how, values, ndim, alt)\u001b[0m\n\u001b[1;32m   1944\u001b[0m     msg \u001b[38;5;241m=\u001b[39m \u001b[38;5;124mf\u001b[39m\u001b[38;5;124m\"\u001b[39m\u001b[38;5;124magg function failed [how->\u001b[39m\u001b[38;5;132;01m{\u001b[39;00mhow\u001b[38;5;132;01m}\u001b[39;00m\u001b[38;5;124m,dtype->\u001b[39m\u001b[38;5;132;01m{\u001b[39;00mser\u001b[38;5;241m.\u001b[39mdtype\u001b[38;5;132;01m}\u001b[39;00m\u001b[38;5;124m]\u001b[39m\u001b[38;5;124m\"\u001b[39m\n\u001b[1;32m   1945\u001b[0m     \u001b[38;5;66;03m# preserve the kind of exception that raised\u001b[39;00m\n\u001b[0;32m-> 1946\u001b[0m     \u001b[38;5;28;01mraise\u001b[39;00m \u001b[38;5;28mtype\u001b[39m(err)(msg) \u001b[38;5;28;01mfrom\u001b[39;00m \u001b[38;5;21;01merr\u001b[39;00m\n\u001b[1;32m   1948\u001b[0m \u001b[38;5;28;01mif\u001b[39;00m ser\u001b[38;5;241m.\u001b[39mdtype \u001b[38;5;241m==\u001b[39m \u001b[38;5;28mobject\u001b[39m:\n\u001b[1;32m   1949\u001b[0m     res_values \u001b[38;5;241m=\u001b[39m res_values\u001b[38;5;241m.\u001b[39mastype(\u001b[38;5;28mobject\u001b[39m, copy\u001b[38;5;241m=\u001b[39m\u001b[38;5;28;01mFalse\u001b[39;00m)\n",
      "\u001b[0;31mTypeError\u001b[0m: agg function failed [how->mean,dtype->object]"
     ]
    }
   ],
   "source": [
    "df.groupby('left').mean()"
   ]
  },
  {
   "cell_type": "markdown",
   "metadata": {},
   "source": [
    "From above table we can draw following conclusions,\n",
    "<ol>\n",
    "    <li>**Satisfaction Level**: Satisfaction level seems to be relatively low (0.44) in employees leaving the firm vs the retained ones (0.66)</li>\n",
    "    <li>**Average Monthly Hours**: Average monthly hours are higher in employees leaving the firm (199 vs 207)</li>\n",
    "    <li>**Promotion Last 5 Years**: Employees who are given promotion are likely to be retained at firm </li>\n",
    "</ol>"
   ]
  },
  {
   "cell_type": "markdown",
   "metadata": {},
   "source": [
    "**Impact of salary on employee retention**"
   ]
  },
  {
   "cell_type": "code",
   "execution_count": null,
   "metadata": {
    "scrolled": true
   },
   "outputs": [
    {
     "data": {
      "text/plain": [
       "<matplotlib.axes._subplots.AxesSubplot at 0x1442bf3eda0>"
      ]
     },
     "execution_count": 37,
     "metadata": {},
     "output_type": "execute_result"
    },
    {
     "data": {
      "image/png": "[encoded data removed]",
      "text/plain": [
       "<matplotlib.figure.Figure at 0x14429998240>"
      ]
     },
     "metadata": {},
     "output_type": "display_data"
    }
   ],
   "source": [
    "pd.crosstab(df.salary,df.left).plot(kind='bar')"
   ]
  },
  {
   "cell_type": "markdown",
   "metadata": {},
   "source": [
    "Above bar chart shows employees with high salaries are likely to not leave the company"
   ]
  },
  {
   "cell_type": "markdown",
   "metadata": {},
   "source": [
    "**Department wise employee retention rate**"
   ]
  },
  {
   "cell_type": "code",
   "execution_count": null,
   "metadata": {
    "scrolled": true
   },
   "outputs": [
    {
     "data": {
      "text/plain": [
       "<matplotlib.axes._subplots.AxesSubplot at 0x1442bf75128>"
      ]
     },
     "execution_count": 38,
     "metadata": {},
     "output_type": "execute_result"
    },
    {
     "data": {
      "image/png": "[encoded data removed]",
      "text/plain": [
       "<matplotlib.figure.Figure at 0x1442bf7cba8>"
      ]
     },
     "metadata": {},
     "output_type": "display_data"
    }
   ],
   "source": [
    "pd.crosstab(df.Department,df.left).plot(kind='bar')"
   ]
  },
  {
   "cell_type": "markdown",
   "metadata": {},
   "source": [
    "From above chart there seem to be some impact of department on employee retention but it is not major hence we will ignore department in our analysis"
   ]
  },
  {
   "cell_type": "markdown",
   "metadata": {},
   "source": [
    "<h3 style=\"color:purple\">From the data analysis so far we can conclude that we will use following variables as independant variables in our model</h3>\n",
    "<ol>\n",
    "    <li>**Satisfaction Level**</li>\n",
    "    <li>**Average Monthly Hours**</li>\n",
    "    <li>**Promotion Last 5 Years**</li>\n",
    "    <li>**Salary**</li>\n",
    "</ol>"
   ]
  },
  {
   "cell_type": "code",
   "execution_count": null,
   "metadata": {},
   "outputs": [
    {
     "data": {
      "text/html": [
       "<div>\n",
       "<style scoped>\n",
       "    .dataframe tbody tr th:only-of-type {\n",
       "        vertical-align: middle;\n",
       "    }\n",
       "\n",
       "    .dataframe tbody tr th {\n",
       "        vertical-align: top;\n",
       "    }\n",
       "\n",
       "    .dataframe thead th {\n",
       "        text-align: right;\n",
       "    }\n",
       "</style>\n",
       "<table border=\"1\" class=\"dataframe\">\n",
       "  <thead>\n",
       "    <tr style=\"text-align: right;\">\n",
       "      <th></th>\n",
       "      <th>satisfaction_level</th>\n",
       "      <th>average_montly_hours</th>\n",
       "      <th>promotion_last_5years</th>\n",
       "      <th>salary</th>\n",
       "    </tr>\n",
       "  </thead>\n",
       "  <tbody>\n",
       "    <tr>\n",
       "      <th>0</th>\n",
       "      <td>0.38</td>\n",
       "      <td>157</td>\n",
       "      <td>0</td>\n",
       "      <td>low</td>\n",
       "    </tr>\n",
       "    <tr>\n",
       "      <th>1</th>\n",
       "      <td>0.80</td>\n",
       "      <td>262</td>\n",
       "      <td>0</td>\n",
       "      <td>medium</td>\n",
       "    </tr>\n",
       "    <tr>\n",
       "      <th>2</th>\n",
       "      <td>0.11</td>\n",
       "      <td>272</td>\n",
       "      <td>0</td>\n",
       "      <td>medium</td>\n",
       "    </tr>\n",
       "    <tr>\n",
       "      <th>3</th>\n",
       "      <td>0.72</td>\n",
       "      <td>223</td>\n",
       "      <td>0</td>\n",
       "      <td>low</td>\n",
       "    </tr>\n",
       "    <tr>\n",
       "      <th>4</th>\n",
       "      <td>0.37</td>\n",
       "      <td>159</td>\n",
       "      <td>0</td>\n",
       "      <td>low</td>\n",
       "    </tr>\n",
       "  </tbody>\n",
       "</table>\n",
       "</div>"
      ],
      "text/plain": [
       "   satisfaction_level  average_montly_hours  promotion_last_5years  salary\n",
       "0                0.38                   157                      0     low\n",
       "1                0.80                   262                      0  medium\n",
       "2                0.11                   272                      0  medium\n",
       "3                0.72                   223                      0     low\n",
       "4                0.37                   159                      0     low"
      ]
     },
     "execution_count": 76,
     "metadata": {},
     "output_type": "execute_result"
    }
   ],
   "source": [
    "subdf = df[['satisfaction_level','average_montly_hours','promotion_last_5years','salary']]\n",
    "subdf.head()"
   ]
  },
  {
   "cell_type": "markdown",
   "metadata": {},
   "source": [
    "**Tackle salary dummy variable**"
   ]
  },
  {
   "cell_type": "markdown",
   "metadata": {},
   "source": [
    "Salary has all text data. It needs to be converted to numbers and we will use dummy variable for that. Check my one hot encoding tutorial to understand purpose behind dummy variables."
   ]
  },
  {
   "cell_type": "code",
   "execution_count": null,
   "metadata": {},
   "outputs": [],
   "source": [
    "salary_dummies = pd.get_dummies(subdf.salary, prefix=\"salary\")"
   ]
  },
  {
   "cell_type": "code",
   "execution_count": null,
   "metadata": {},
   "outputs": [],
   "source": [
    "df_with_dummies = pd.concat([subdf,salary_dummies],axis='columns')"
   ]
  },
  {
   "cell_type": "code",
   "execution_count": null,
   "metadata": {},
   "outputs": [
    {
     "data": {
      "text/html": [
       "<div>\n",
       "<style scoped>\n",
       "    .dataframe tbody tr th:only-of-type {\n",
       "        vertical-align: middle;\n",
       "    }\n",
       "\n",
       "    .dataframe tbody tr th {\n",
       "        vertical-align: top;\n",
       "    }\n",
       "\n",
       "    .dataframe thead th {\n",
       "        text-align: right;\n",
       "    }\n",
       "</style>\n",
       "<table border=\"1\" class=\"dataframe\">\n",
       "  <thead>\n",
       "    <tr style=\"text-align: right;\">\n",
       "      <th></th>\n",
       "      <th>satisfaction_level</th>\n",
       "      <th>average_montly_hours</th>\n",
       "      <th>promotion_last_5years</th>\n",
       "      <th>salary</th>\n",
       "      <th>salary_high</th>\n",
       "      <th>salary_low</th>\n",
       "      <th>salary_medium</th>\n",
       "    </tr>\n",
       "  </thead>\n",
       "  <tbody>\n",
       "    <tr>\n",
       "      <th>0</th>\n",
       "      <td>0.38</td>\n",
       "      <td>157</td>\n",
       "      <td>0</td>\n",
       "      <td>low</td>\n",
       "      <td>0</td>\n",
       "      <td>1</td>\n",
       "      <td>0</td>\n",
       "    </tr>\n",
       "    <tr>\n",
       "      <th>1</th>\n",
       "      <td>0.80</td>\n",
       "      <td>262</td>\n",
       "      <td>0</td>\n",
       "      <td>medium</td>\n",
       "      <td>0</td>\n",
       "      <td>0</td>\n",
       "      <td>1</td>\n",
       "    </tr>\n",
       "    <tr>\n",
       "      <th>2</th>\n",
       "      <td>0.11</td>\n",
       "      <td>272</td>\n",
       "      <td>0</td>\n",
       "      <td>medium</td>\n",
       "      <td>0</td>\n",
       "      <td>0</td>\n",
       "      <td>1</td>\n",
       "    </tr>\n",
       "    <tr>\n",
       "      <th>3</th>\n",
       "      <td>0.72</td>\n",
       "      <td>223</td>\n",
       "      <td>0</td>\n",
       "      <td>low</td>\n",
       "      <td>0</td>\n",
       "      <td>1</td>\n",
       "      <td>0</td>\n",
       "    </tr>\n",
       "    <tr>\n",
       "      <th>4</th>\n",
       "      <td>0.37</td>\n",
       "      <td>159</td>\n",
       "      <td>0</td>\n",
       "      <td>low</td>\n",
       "      <td>0</td>\n",
       "      <td>1</td>\n",
       "      <td>0</td>\n",
       "    </tr>\n",
       "  </tbody>\n",
       "</table>\n",
       "</div>"
      ],
      "text/plain": [
       "   satisfaction_level  average_montly_hours  promotion_last_5years  salary  \\\n",
       "0                0.38                   157                      0     low   \n",
       "1                0.80                   262                      0  medium   \n",
       "2                0.11                   272                      0  medium   \n",
       "3                0.72                   223                      0     low   \n",
       "4                0.37                   159                      0     low   \n",
       "\n",
       "   salary_high  salary_low  salary_medium  \n",
       "0            0           1              0  \n",
       "1            0           0              1  \n",
       "2            0           0              1  \n",
       "3            0           1              0  \n",
       "4            0           1              0  "
      ]
     },
     "execution_count": 80,
     "metadata": {},
     "output_type": "execute_result"
    }
   ],
   "source": [
    "df_with_dummies.head()"
   ]
  },
  {
   "cell_type": "markdown",
   "metadata": {},
   "source": [
    "Now we need to remove salary column which is text data. It is already replaced by dummy variables so we can safely remove it"
   ]
  },
  {
   "cell_type": "code",
   "execution_count": null,
   "metadata": {},
   "outputs": [
    {
     "data": {
      "text/html": [
       "<div>\n",
       "<style scoped>\n",
       "    .dataframe tbody tr th:only-of-type {\n",
       "        vertical-align: middle;\n",
       "    }\n",
       "\n",
       "    .dataframe tbody tr th {\n",
       "        vertical-align: top;\n",
       "    }\n",
       "\n",
       "    .dataframe thead th {\n",
       "        text-align: right;\n",
       "    }\n",
       "</style>\n",
       "<table border=\"1\" class=\"dataframe\">\n",
       "  <thead>\n",
       "    <tr style=\"text-align: right;\">\n",
       "      <th></th>\n",
       "      <th>satisfaction_level</th>\n",
       "      <th>average_montly_hours</th>\n",
       "      <th>promotion_last_5years</th>\n",
       "      <th>salary_high</th>\n",
       "      <th>salary_low</th>\n",
       "      <th>salary_medium</th>\n",
       "    </tr>\n",
       "  </thead>\n",
       "  <tbody>\n",
       "    <tr>\n",
       "      <th>0</th>\n",
       "      <td>0.38</td>\n",
       "      <td>157</td>\n",
       "      <td>0</td>\n",
       "      <td>0</td>\n",
       "      <td>1</td>\n",
       "      <td>0</td>\n",
       "    </tr>\n",
       "    <tr>\n",
       "      <th>1</th>\n",
       "      <td>0.80</td>\n",
       "      <td>262</td>\n",
       "      <td>0</td>\n",
       "      <td>0</td>\n",
       "      <td>0</td>\n",
       "      <td>1</td>\n",
       "    </tr>\n",
       "    <tr>\n",
       "      <th>2</th>\n",
       "      <td>0.11</td>\n",
       "      <td>272</td>\n",
       "      <td>0</td>\n",
       "      <td>0</td>\n",
       "      <td>0</td>\n",
       "      <td>1</td>\n",
       "    </tr>\n",
       "    <tr>\n",
       "      <th>3</th>\n",
       "      <td>0.72</td>\n",
       "      <td>223</td>\n",
       "      <td>0</td>\n",
       "      <td>0</td>\n",
       "      <td>1</td>\n",
       "      <td>0</td>\n",
       "    </tr>\n",
       "    <tr>\n",
       "      <th>4</th>\n",
       "      <td>0.37</td>\n",
       "      <td>159</td>\n",
       "      <td>0</td>\n",
       "      <td>0</td>\n",
       "      <td>1</td>\n",
       "      <td>0</td>\n",
       "    </tr>\n",
       "  </tbody>\n",
       "</table>\n",
       "</div>"
      ],
      "text/plain": [
       "   satisfaction_level  average_montly_hours  promotion_last_5years  \\\n",
       "0                0.38                   157                      0   \n",
       "1                0.80                   262                      0   \n",
       "2                0.11                   272                      0   \n",
       "3                0.72                   223                      0   \n",
       "4                0.37                   159                      0   \n",
       "\n",
       "   salary_high  salary_low  salary_medium  \n",
       "0            0           1              0  \n",
       "1            0           0              1  \n",
       "2            0           0              1  \n",
       "3            0           1              0  \n",
       "4            0           1              0  "
      ]
     },
     "execution_count": 81,
     "metadata": {},
     "output_type": "execute_result"
    }
   ],
   "source": [
    "df_with_dummies.drop('salary',axis='columns',inplace=True)\n",
    "df_with_dummies.head()"
   ]
  },
  {
   "cell_type": "code",
   "execution_count": null,
   "metadata": {},
   "outputs": [
    {
     "data": {
      "text/html": [
       "<div>\n",
       "<style scoped>\n",
       "    .dataframe tbody tr th:only-of-type {\n",
       "        vertical-align: middle;\n",
       "    }\n",
       "\n",
       "    .dataframe tbody tr th {\n",
       "        vertical-align: top;\n",
       "    }\n",
       "\n",
       "    .dataframe thead th {\n",
       "        text-align: right;\n",
       "    }\n",
       "</style>\n",
       "<table border=\"1\" class=\"dataframe\">\n",
       "  <thead>\n",
       "    <tr style=\"text-align: right;\">\n",
       "      <th></th>\n",
       "      <th>satisfaction_level</th>\n",
       "      <th>average_montly_hours</th>\n",
       "      <th>promotion_last_5years</th>\n",
       "      <th>salary_high</th>\n",
       "      <th>salary_low</th>\n",
       "      <th>salary_medium</th>\n",
       "    </tr>\n",
       "  </thead>\n",
       "  <tbody>\n",
       "    <tr>\n",
       "      <th>0</th>\n",
       "      <td>0.38</td>\n",
       "      <td>157</td>\n",
       "      <td>0</td>\n",
       "      <td>0</td>\n",
       "      <td>1</td>\n",
       "      <td>0</td>\n",
       "    </tr>\n",
       "    <tr>\n",
       "      <th>1</th>\n",
       "      <td>0.80</td>\n",
       "      <td>262</td>\n",
       "      <td>0</td>\n",
       "      <td>0</td>\n",
       "      <td>0</td>\n",
       "      <td>1</td>\n",
       "    </tr>\n",
       "    <tr>\n",
       "      <th>2</th>\n",
       "      <td>0.11</td>\n",
       "      <td>272</td>\n",
       "      <td>0</td>\n",
       "      <td>0</td>\n",
       "      <td>0</td>\n",
       "      <td>1</td>\n",
       "    </tr>\n",
       "    <tr>\n",
       "      <th>3</th>\n",
       "      <td>0.72</td>\n",
       "      <td>223</td>\n",
       "      <td>0</td>\n",
       "      <td>0</td>\n",
       "      <td>1</td>\n",
       "      <td>0</td>\n",
       "    </tr>\n",
       "    <tr>\n",
       "      <th>4</th>\n",
       "      <td>0.37</td>\n",
       "      <td>159</td>\n",
       "      <td>0</td>\n",
       "      <td>0</td>\n",
       "      <td>1</td>\n",
       "      <td>0</td>\n",
       "    </tr>\n",
       "  </tbody>\n",
       "</table>\n",
       "</div>"
      ],
      "text/plain": [
       "   satisfaction_level  average_montly_hours  promotion_last_5years  \\\n",
       "0                0.38                   157                      0   \n",
       "1                0.80                   262                      0   \n",
       "2                0.11                   272                      0   \n",
       "3                0.72                   223                      0   \n",
       "4                0.37                   159                      0   \n",
       "\n",
       "   salary_high  salary_low  salary_medium  \n",
       "0            0           1              0  \n",
       "1            0           0              1  \n",
       "2            0           0              1  \n",
       "3            0           1              0  \n",
       "4            0           1              0  "
      ]
     },
     "execution_count": 82,
     "metadata": {},
     "output_type": "execute_result"
    }
   ],
   "source": [
    "X = df_with_dummies\n",
    "X.head()"
   ]
  },
  {
   "cell_type": "code",
   "execution_count": null,
   "metadata": {},
   "outputs": [],
   "source": [
    "y = df.left"
   ]
  },
  {
   "cell_type": "code",
   "execution_count": null,
   "metadata": {},
   "outputs": [],
   "source": [
    "from sklearn.model_selection import train_test_split\n",
    "X_train, X_test, y_train, y_test = train_test_split(X,y,train_size=0.3)"
   ]
  },
  {
   "cell_type": "code",
   "execution_count": null,
   "metadata": {},
   "outputs": [],
   "source": [
    "from sklearn.linear_model import LogisticRegression\n",
    "model = LogisticRegression()"
   ]
  },
  {
   "cell_type": "code",
   "execution_count": null,
   "metadata": {},
   "outputs": [
    {
     "data": {
      "text/plain": [
       "LogisticRegression(C=1.0, class_weight=None, dual=False, fit_intercept=True,\n",
       "          intercept_scaling=1, max_iter=100, multi_class='ovr', n_jobs=1,\n",
       "          penalty='l2', random_state=None, solver='liblinear', tol=0.0001,\n",
       "          verbose=0, warm_start=False)"
      ]
     },
     "execution_count": 88,
     "metadata": {},
     "output_type": "execute_result"
    }
   ],
   "source": [
    "model.fit(X_train, y_train)"
   ]
  },
  {
   "cell_type": "code",
   "execution_count": null,
   "metadata": {},
   "outputs": [
    {
     "data": {
      "text/plain": [
       "array([0, 0, 0, ..., 0, 0, 1], dtype=int64)"
      ]
     },
     "execution_count": 89,
     "metadata": {},
     "output_type": "execute_result"
    }
   ],
   "source": [
    "model.predict(X_test)"
   ]
  },
  {
   "cell_type": "markdown",
   "metadata": {},
   "source": [
    "**Accuracy of the model**"
   ]
  },
  {
   "cell_type": "code",
   "execution_count": null,
   "metadata": {},
   "outputs": [
    {
     "data": {
      "text/plain": [
       "0.78428571428571425"
      ]
     },
     "execution_count": 90,
     "metadata": {},
     "output_type": "execute_result"
    }
   ],
   "source": [
    "model.score(X_test,y_test)"
   ]
  }
 ],
 "metadata": {
  "kernelspec": {
   "display_name": "Python 3",
   "language": "python",
   "name": "python3"
  },
  "language_info": {
   "codemirror_mode": {
    "name": "ipython",
    "version": 3
   },
   "file_extension": ".py",
   "mimetype": "text/x-python",
   "name": "python",
   "nbconvert_exporter": "python",
   "pygments_lexer": "ipython3",
   "version": "3.10.12"
  }
 },
 "nbformat": 4,
 "nbformat_minor": 2
}
