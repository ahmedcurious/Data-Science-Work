{
 "cells": [
  {
   "cell_type": "markdown",
   "metadata": {},
   "source": [
    "<div style=\"width:100%; height:60px; background-color:aqua; display:flex\">\n",
    "<div style=\"display:flex; flex-direction:row; justify-content:center\">\n",
    "<h2 style=\"color:white\"><strong>Decision Tree</strong></h2>\n",
    "</div>\n",
    "</div>\n",
    "<h3 style=\"color:white\">A decision tree is a flowchart-like tree structure where an internal node represents a feature(or attribute), the branch represents a decision rule, and each leaf node represents the outcome.</h3>\n",
    "<h3 style=\"color:white\">The time complexity of decision trees is a function of the number of records and attributes in the given data. The decision tree is a distribution-free or non-parametric method which does not depend upon probability distribution assumptions. Decision trees can handle high-dimensional data with good accuracy.</h3>\n",
    "<div style=\"width:100%; height:auto; display:flex; flex-direction:row; justify-content:space-around;\">\n",
    "<img style=\"width:45%;height:auto\" src=\"/home/ahmedunix/data_Science_Work/Machine_Learning/10_Decision_Tree/Decision-Tree-Classifier-Support.png\">\n",
    "<img style=\"width:45%;height:auto\" src=\"/home/ahmedunix/data_Science_Work/Machine_Learning/10_Decision_Tree/decision_tree_heart_attack.png\">\n",
    "</div>\n",
    "<h2 style=\"color:white\">How Does the Decision Tree Algorithm Work?</h2>\n",
    "<h3 style=\"color:grey; font-style:italic\">The basic idea behind any decision tree algorithm is as follows:\n",
    "<ol style=\"color:aqua; font-style:italic\">\n",
    "<li>\n",
    "Select the best attribute using Attribute Selection Measures (ASM) to split the records.\n",
    "</li>\n",
    "<li>\n",
    "Make that attribute a decision node and breaks the dataset into smaller subsets.\n",
    "</li>\n",
    "<li>\n",
    "Start tree building by repeating this process recursively for each child until one of the conditions will match:\n",
    "<ul>\n",
    "<li>\n",
    "All the tuples belong to the same attribute value.\n",
    "</li>\n",
    "<li>\n",
    "There are no more remaining attributes.\n",
    "</li>\n",
    "<li>\n",
    "There are no more instances.\n",
    "</li>\n",
    "</ul>\n",
    "</li>\n",
    "</ol>\n",
    "</h3>\n",
    "<img src=\"/home/ahmedunix/data_Science_Work/Machine_Learning/10_Decision_Tree/decision_tree_generation.webp\">"
   ]
  }
 ],
 "metadata": {
  "kernelspec": {
   "display_name": "data-science-work-mqn9WFvk-py3.10",
   "language": "python",
   "name": "python3"
  },
  "language_info": {
   "name": "python",
   "version": "3.10.12"
  }
 },
 "nbformat": 4,
 "nbformat_minor": 2
}
