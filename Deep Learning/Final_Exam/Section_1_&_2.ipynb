{
 "cells": [
  {
   "cell_type": "markdown",
   "metadata": {},
   "source": [
    "<h1 style=\"color:blue;font-weight:bold\">Ahmed Naseem<br>Data Science with Artificial Intelligence<br>Batch 5<br>Exam: Deep Learning</h1>"
   ]
  },
  {
   "cell_type": "markdown",
   "metadata": {},
   "source": [
    "<h2 style=\"color:green;font-weight:bold;font-style:italic\">SECTION 1</h2>"
   ]
  },
  {
   "cell_type": "markdown",
   "metadata": {},
   "source": []
  },
  {
   "cell_type": "markdown",
   "metadata": {},
   "source": [
    "<h3 style=\"font-weight:bold;font-style:italic\">Question 1</h3>"
   ]
  },
  {
   "cell_type": "markdown",
   "metadata": {},
   "source": [
    "Answer:(iv) None of the above"
   ]
  },
  {
   "cell_type": "markdown",
   "metadata": {},
   "source": [
    "<h3 style=\"font-weight:bold;font-style:italic\">Question 2</h3>"
   ]
  },
  {
   "cell_type": "markdown",
   "metadata": {},
   "source": [
    "Answer:True"
   ]
  },
  {
   "cell_type": "markdown",
   "metadata": {},
   "source": [
    "<h3 style=\"font-weight:bold;font-style:italic\">Question 3</h3>"
   ]
  },
  {
   "cell_type": "markdown",
   "metadata": {},
   "source": [
    "Answer:(iii) and (iv)"
   ]
  },
  {
   "cell_type": "markdown",
   "metadata": {},
   "source": [
    "<h3 style=\"font-weight:bold;font-style:italic\">Question 4</h3>"
   ]
  },
  {
   "cell_type": "markdown",
   "metadata": {},
   "source": [
    "Answer:(ii) False"
   ]
  },
  {
   "cell_type": "markdown",
   "metadata": {},
   "source": [
    "<h3 style=\"font-weight:bold;font-style:italic\">Question 5</h3>"
   ]
  },
  {
   "cell_type": "markdown",
   "metadata": {},
   "source": [
    "Answer:(ii) Dropout"
   ]
  },
  {
   "cell_type": "markdown",
   "metadata": {},
   "source": [
    "<h2 style=\"color:green;font-weight:bold;font-style:italic\">SECTION 2</h2>"
   ]
  },
  {
   "cell_type": "markdown",
   "metadata": {},
   "source": [
    "<h3 style=\"font-weight:bold;font-style:italic\">Question 1</h3>"
   ]
  },
  {
   "cell_type": "markdown",
   "metadata": {},
   "source": [
    "Answer:Yes, my friend is correct. Shuffling the training set is important because it prevents the model from learning patterns based on the order of images. If all dog images are grouped together, the model may become biased toward dogs during training, leading to poor generalization on unseen data. Shuffling helps ensure that each mini-batch has a mix of classes, improving the model's ability to learn effectively."
   ]
  },
  {
   "cell_type": "markdown",
   "metadata": {},
   "source": [
    "<h3 style=\"font-weight:bold;font-style:italic\">Question 2</h3>"
   ]
  },
  {
   "cell_type": "markdown",
   "metadata": {},
   "source": [
    "Answer: a. Loss Function\n",
    "You would use categorical cross-entropy as the loss function. It’s suitable for multi-class classification problems where you want to predict one class out of multiple classes.\n",
    "\n",
    "b. Activation Function\n",
    "You should use the softmax activation function in the output layer. Softmax converts the raw output scores into probabilities for each class, making it ideal for multi-class classification.\n",
    "\n",
    "c. Additional Hyperparameters for Transfer Learning\n",
    "When using transfer learning, you may need to tune:\n",
    "\n",
    "Learning rate: Since the model is pre-trained, a smaller learning rate can help fine-tune the weights without drastically altering them.\n",
    "\n",
    "Number of layers to freeze: Decide how many layers of the pre-trained model to keep frozen (not train) vs. trainable layers.\n",
    "\n",
    "Batch size: Adjusting the batch size can help with training stability and performance.\n",
    "\n",
    "Epochs: You may need to tune the number of training epochs based on the model's convergence on your dataset.\n",
    "\n",
    "These adjustments can help adapt the pre-trained model to your specific task more effectively."
   ]
  },
  {
   "cell_type": "markdown",
   "metadata": {},
   "source": [
    "<h3 style=\"font-weight:bold;font-style:italic\">Question 3</h3>"
   ]
  },
  {
   "cell_type": "markdown",
   "metadata": {},
   "source": [
    "Answer:Layers in a deep architecture need to be non-linear to allow the model to learn complex patterns in the data. If all layers were linear, the entire network would behave like a single linear transformation, regardless of its depth. Non-linear activation functions, like ReLU or sigmoid, enable the network to combine features in complex ways, helping it capture intricate relationships and improve its ability to solve difficult tasks like image classification or natural language processing."
   ]
  },
  {
   "cell_type": "markdown",
   "metadata": {},
   "source": [
    "<h3 style=\"font-weight:bold;font-style:italic\">Question 4</h3>"
   ]
  },
  {
   "cell_type": "markdown",
   "metadata": {},
   "source": [
    "Answer: Three commonly used layers in a convolutional neural network (CNN) are:\n",
    "\n",
    "Convolutional Layer: This layer applies filters to the input image to detect features like edges, textures, and shapes. It learns spatial hierarchies of features.\n",
    "\n",
    "Pooling Layer: Often used after convolutional layers, pooling (like max pooling) reduces the spatial dimensions of the feature maps, which helps decrease computation and control overfitting while retaining important features.\n",
    "\n",
    "Fully Connected Layer: This layer connects every neuron from the previous layer to every neuron in the next layer, typically used at the end of the network to make the final classification based on the features learned by previous layers."
   ]
  }
 ],
 "metadata": {
  "kernelspec": {
   "display_name": "data-science-work-mqn9WFvk-py3.10",
   "language": "python",
   "name": "python3"
  },
  "language_info": {
   "name": "python",
   "version": "3.10.12"
  }
 },
 "nbformat": 4,
 "nbformat_minor": 2
}
