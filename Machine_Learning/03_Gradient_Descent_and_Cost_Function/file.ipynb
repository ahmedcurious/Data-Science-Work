{
 "cells": [
  {
   "cell_type": "markdown",
   "metadata": {},
   "source": [
    "<div style=\"width:100%; height:60px; background-color:aqua; display:flex\">\n",
    "<div style=\"display:flex; flex-direction:row; justify-content:center\">\n",
    "<h2 style=\"color:white\"><strong>Gradient Descent</strong></h2>\n",
    "</div>\n",
    "</div>\n",
    "\n",
    "<h3 style=\"color:white\">Gradient Descent is an algorithm that finds best fit line for given training DataSet.</h3>\n",
    "<h3 style=\"color:white\">This is the algorithm to find <strong style=\"color:aqua\">Mean Squared Error(MSE).</strong></h3>\n",
    "<h3 style=\"color:white\">This is a trial and error based approach.</h3>\n",
    "<div style=\"width:100%; height:auto; display:flex; flex-direction:row; justify-content:space-between;\">\n",
    "<img style=\"width:30%;height:auto\" src=\"/home/ahmedunix/data_Science_Work/Machine_Learning/03_Gradient_Descent_and_Cost_Function/cost_mse_equation.png\">\n",
    "<img style=\"width:30%;height:auto\" src=\"/home/ahmedunix/data_Science_Work/Machine_Learning/03_Gradient_Descent_and_Cost_Function/partial_derivatives_m_b.png\">\n",
    "<img style=\"width:30%;height:auto\" src=\"/home/ahmedunix/data_Science_Work/Machine_Learning/03_Gradient_Descent_and_Cost_Function/learning_rate_formulas.png\">\n",
    "</div>"
   ]
  },
  {
   "cell_type": "code",
   "execution_count": 1,
   "metadata": {},
   "outputs": [
    {
     "name": "stderr",
     "output_type": "stream",
     "text": [
      "2024-08-11 19:17:28.556333: E external/local_xla/xla/stream_executor/cuda/cuda_fft.cc:485] Unable to register cuFFT factory: Attempting to register factory for plugin cuFFT when one has already been registered\n",
      "2024-08-11 19:17:28.597346: E external/local_xla/xla/stream_executor/cuda/cuda_dnn.cc:8454] Unable to register cuDNN factory: Attempting to register factory for plugin cuDNN when one has already been registered\n",
      "2024-08-11 19:17:28.608005: E external/local_xla/xla/stream_executor/cuda/cuda_blas.cc:1452] Unable to register cuBLAS factory: Attempting to register factory for plugin cuBLAS when one has already been registered\n",
      "2024-08-11 19:17:30.893452: W tensorflow/compiler/tf2tensorrt/utils/py_utils.cc:38] TF-TRT Warning: Could not find TensorRT\n"
     ]
    }
   ],
   "source": [
    "import pandas as pd\n",
    "import numpy as np\n",
    "import seaborn as sb\n",
    "import matplotlib.pyplot as plt\n",
    "from sklearn.model_selection import train_test_split\n",
    "from sklearn import linear_model\n",
    "from sklearn.metrics import mean_squared_error\n",
    "from sklearn.preprocessing import StandardScaler\n",
    "import tensorflow as tf, keras\n",
    "from word2number import w2n"
   ]
  },
  {
   "cell_type": "code",
   "execution_count": 2,
   "metadata": {},
   "outputs": [],
   "source": [
    "x = np.array([1,2,3,4,5])\n",
    "y = np.array([5,7,9,11,12])"
   ]
  },
  {
   "cell_type": "code",
   "execution_count": 5,
   "metadata": {},
   "outputs": [
    {
     "data": {
      "text/plain": [
       "[25, 49, 81, 121, 144]"
      ]
     },
     "execution_count": 5,
     "metadata": {},
     "output_type": "execute_result"
    }
   ],
   "source": [
    "def gradient_descent(x,y,iter):\n",
    "    m_curr = b_curr = 0\n",
    "    n = len(x)\n",
    "\n",
    "    for i in range(iter):\n",
    "        y_predicted = m_curr * x + b_curr\n",
    "        cost_mse =  (1/n) * (sum([val**2 for val in (y-y_predicted)]))\n",
    "        m_partial_deriv = -(2/n) * sum(x * (y - y_predicted))\n",
    "        b_partial_deriv = -(2/n) * sum(y - y_predicted)\n",
    "\n",
    "    return cost_mse\n",
    "\n",
    "\n",
    "        "
   ]
  }
 ],
 "metadata": {
  "kernelspec": {
   "display_name": "data-science-work-mqn9WFvk-py3.10",
   "language": "python",
   "name": "python3"
  },
  "language_info": {
   "codemirror_mode": {
    "name": "ipython",
    "version": 3
   },
   "file_extension": ".py",
   "mimetype": "text/x-python",
   "name": "python",
   "nbconvert_exporter": "python",
   "pygments_lexer": "ipython3",
   "version": "3.10.12"
  }
 },
 "nbformat": 4,
 "nbformat_minor": 2
}
